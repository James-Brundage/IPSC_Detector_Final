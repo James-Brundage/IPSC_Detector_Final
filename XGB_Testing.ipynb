{
 "cells": [
  {
   "cell_type": "markdown",
   "metadata": {
    "pycharm": {
     "name": "#%% md\n"
    }
   },
   "source": [
    "## Set Up"
   ]
  },
  {
   "cell_type": "code",
   "execution_count": 3,
   "metadata": {
    "pycharm": {
     "is_executing": true
    }
   },
   "outputs": [],
   "source": [
    "# General Imports\n",
    "import numpy as np\n",
    "import pandas as pd\n",
    "import os\n",
    "import time\n",
    "import pickle\n",
    "import matplotlib.pyplot as plt\n",
    "import seaborn as sns\n",
    "%matplotlib inline\n",
    "\n",
    "# ML Imports\n",
    "from sklearn.model_selection import train_test_split\n",
    "from sklearn.metrics import confusion_matrix, accuracy_score, classification_report\n",
    "from sklearn.model_selection import GridSearchCV\n",
    "import xgboost\n",
    "from xgboost import XGBClassifier"
   ]
  },
  {
   "cell_type": "code",
   "execution_count": 2,
   "metadata": {},
   "outputs": [],
   "source": [
    "# Read in sample data\n",
    "df = pd.read_csv('IPSC_CNN_Class/CNN_Data_Subset.csv')"
   ]
  },
  {
   "cell_type": "markdown",
   "metadata": {
    "pycharm": {
     "name": "#%% md\n"
    }
   },
   "source": [
    "## Functions"
   ]
  },
  {
   "cell_type": "code",
   "execution_count": 4,
   "metadata": {},
   "outputs": [],
   "source": [
    "# Create random training set for practice inputs\n",
    "def rand_ds (num_samples=100, vl=96):\n",
    "    '''\n",
    "    Used to generate a practice dataset for testing the XGBoost algorith for the binary classification task.\n",
    "    :param num_samples: The number of samples in a dataset. In the actual set this is somewhere around 50,000\n",
    "    :param vl: The length of the 1 dimensional vector. In the actual dataset this is 96000\n",
    "    :return: Two numpy array, the first is an array of the vectors, the second is an array of the binary response variable.\n",
    "    '''\n",
    "    # Create random dataset of the same shape/ verify shape\n",
    "    X = np.random.uniform(-1, 1, size=(num_samples, vl))\n",
    "\n",
    "    # Create binary responses for the dataset\n",
    "    y = np.random.randint(0, 2, size=(num_samples,))\n",
    "\n",
    "    return X, y"
   ]
  },
  {
   "cell_type": "code",
   "execution_count": 33,
   "metadata": {},
   "outputs": [],
   "source": [
    "def train_XGB (X, y, best=False):\n",
    "    '''\n",
    "    Trains an XGBoost algorithm without hyper-parameter tuning\n",
    "    :param X: Numpy array of the input features\n",
    "    :param y: Numpy array of the target results. These should be 0s and 1s.\n",
    "    :return: Predicted binaries and the y_test set.\n",
    "    '''\n",
    "\n",
    "    # Train test split\n",
    "    X_train, X_test, y_train, y_test = train_test_split(X, y, test_size=0.2, random_state=1341)\n",
    "    \n",
    "    # Set parameters/train\n",
    "    if params == False:\n",
    "        model = XGBClassifier(random_state=1341, verbosity=2, learning_rate=0.01)\n",
    "    else:\n",
    "        model = XGBClassifier(colsample_bytree=0.7,\n",
    "                                 learning_rate=0.01,\n",
    "                                 max_depth=5,\n",
    "                                 min_child_weight=5,\n",
    "                                 n_estimators=500,\n",
    "                                 objective='reg:squarederror',\n",
    "                                  subsample=0.5,\n",
    "                                 verbosity=2)\n",
    "    \n",
    "    # Set up the model/train/record training time\n",
    "    \n",
    "    start = time.time()\n",
    "    model.fit(X_train, y_train)\n",
    "    tt = time.time() - start\n",
    "\n",
    "    # Generate predictions\n",
    "    preds = model.predict(X_test)\n",
    "    print(tt)\n",
    "    return model, preds, y_test"
   ]
  },
  {
   "cell_type": "markdown",
   "metadata": {},
   "source": [
    "## Train Random Dataset for Shape"
   ]
  },
  {
   "cell_type": "code",
   "execution_count": 91,
   "metadata": {
    "pycharm": {
     "name": "#%%\n"
    }
   },
   "outputs": [],
   "source": [
    "X, y = rand_ds(100, 4000)"
   ]
  },
  {
   "cell_type": "code",
   "execution_count": 103,
   "metadata": {
    "collapsed": true
   },
   "outputs": [
    {
     "name": "stdout",
     "output_type": "stream",
     "text": [
      "[20:51:18] INFO: /Users/travis/build/dmlc/xgboost/src/tree/updater_prune.cc:98: tree pruning end, 12 extra nodes, 0 pruned nodes, max_depth=3\n",
      "[20:51:18] INFO: /Users/travis/build/dmlc/xgboost/src/tree/updater_prune.cc:98: tree pruning end, 12 extra nodes, 0 pruned nodes, max_depth=3\n",
      "[20:51:18] INFO: /Users/travis/build/dmlc/xgboost/src/tree/updater_prune.cc:98: tree pruning end, 10 extra nodes, 0 pruned nodes, max_depth=3\n",
      "[20:51:18] INFO: /Users/travis/build/dmlc/xgboost/src/tree/updater_prune.cc:98: tree pruning end, 12 extra nodes, 0 pruned nodes, max_depth=3\n",
      "[20:51:18] INFO: /Users/travis/build/dmlc/xgboost/src/tree/updater_prune.cc:98: tree pruning end, 10 extra nodes, 0 pruned nodes, max_depth=3\n",
      "[20:51:18] INFO: /Users/travis/build/dmlc/xgboost/src/tree/updater_prune.cc:98: tree pruning end, 12 extra nodes, 0 pruned nodes, max_depth=3\n",
      "[20:51:18] INFO: /Users/travis/build/dmlc/xgboost/src/tree/updater_prune.cc:98: tree pruning end, 10 extra nodes, 0 pruned nodes, max_depth=3\n",
      "[20:51:18] INFO: /Users/travis/build/dmlc/xgboost/src/tree/updater_prune.cc:98: tree pruning end, 12 extra nodes, 0 pruned nodes, max_depth=3\n",
      "[20:51:18] INFO: /Users/travis/build/dmlc/xgboost/src/tree/updater_prune.cc:98: tree pruning end, 10 extra nodes, 0 pruned nodes, max_depth=3\n",
      "[20:51:18] INFO: /Users/travis/build/dmlc/xgboost/src/tree/updater_prune.cc:98: tree pruning end, 10 extra nodes, 0 pruned nodes, max_depth=3\n",
      "[20:51:18] INFO: /Users/travis/build/dmlc/xgboost/src/tree/updater_prune.cc:98: tree pruning end, 12 extra nodes, 0 pruned nodes, max_depth=3\n",
      "[20:51:18] INFO: /Users/travis/build/dmlc/xgboost/src/tree/updater_prune.cc:98: tree pruning end, 10 extra nodes, 0 pruned nodes, max_depth=3\n",
      "[20:51:18] INFO: /Users/travis/build/dmlc/xgboost/src/tree/updater_prune.cc:98: tree pruning end, 12 extra nodes, 0 pruned nodes, max_depth=3\n",
      "[20:51:18] INFO: /Users/travis/build/dmlc/xgboost/src/tree/updater_prune.cc:98: tree pruning end, 10 extra nodes, 0 pruned nodes, max_depth=3\n",
      "[20:51:18] INFO: /Users/travis/build/dmlc/xgboost/src/tree/updater_prune.cc:98: tree pruning end, 12 extra nodes, 0 pruned nodes, max_depth=3\n",
      "[20:51:18] INFO: /Users/travis/build/dmlc/xgboost/src/tree/updater_prune.cc:98: tree pruning end, 10 extra nodes, 0 pruned nodes, max_depth=3\n",
      "[20:51:18] INFO: /Users/travis/build/dmlc/xgboost/src/tree/updater_prune.cc:98: tree pruning end, 10 extra nodes, 0 pruned nodes, max_depth=3\n",
      "[20:51:18] INFO: /Users/travis/build/dmlc/xgboost/src/tree/updater_prune.cc:98: tree pruning end, 12 extra nodes, 0 pruned nodes, max_depth=3\n",
      "[20:51:18] INFO: /Users/travis/build/dmlc/xgboost/src/tree/updater_prune.cc:98: tree pruning end, 10 extra nodes, 0 pruned nodes, max_depth=3\n",
      "[20:51:18] INFO: /Users/travis/build/dmlc/xgboost/src/tree/updater_prune.cc:98: tree pruning end, 12 extra nodes, 0 pruned nodes, max_depth=3\n",
      "[20:51:18] INFO: /Users/travis/build/dmlc/xgboost/src/tree/updater_prune.cc:98: tree pruning end, 10 extra nodes, 0 pruned nodes, max_depth=3\n",
      "[20:51:18] INFO: /Users/travis/build/dmlc/xgboost/src/tree/updater_prune.cc:98: tree pruning end, 10 extra nodes, 0 pruned nodes, max_depth=3\n",
      "[20:51:18] INFO: /Users/travis/build/dmlc/xgboost/src/tree/updater_prune.cc:98: tree pruning end, 12 extra nodes, 0 pruned nodes, max_depth=3\n",
      "[20:51:18] INFO: /Users/travis/build/dmlc/xgboost/src/tree/updater_prune.cc:98: tree pruning end, 12 extra nodes, 0 pruned nodes, max_depth=3\n",
      "[20:51:18] INFO: /Users/travis/build/dmlc/xgboost/src/tree/updater_prune.cc:98: tree pruning end, 10 extra nodes, 0 pruned nodes, max_depth=3\n",
      "[20:51:18] INFO: /Users/travis/build/dmlc/xgboost/src/tree/updater_prune.cc:98: tree pruning end, 12 extra nodes, 0 pruned nodes, max_depth=3\n",
      "[20:51:18] INFO: /Users/travis/build/dmlc/xgboost/src/tree/updater_prune.cc:98: tree pruning end, 12 extra nodes, 0 pruned nodes, max_depth=4\n",
      "[20:51:18] INFO: /Users/travis/build/dmlc/xgboost/src/tree/updater_prune.cc:98: tree pruning end, 12 extra nodes, 0 pruned nodes, max_depth=3\n",
      "[20:51:18] INFO: /Users/travis/build/dmlc/xgboost/src/tree/updater_prune.cc:98: tree pruning end, 12 extra nodes, 0 pruned nodes, max_depth=3\n",
      "[20:51:18] INFO: /Users/travis/build/dmlc/xgboost/src/tree/updater_prune.cc:98: tree pruning end, 12 extra nodes, 0 pruned nodes, max_depth=3\n",
      "[20:51:18] INFO: /Users/travis/build/dmlc/xgboost/src/tree/updater_prune.cc:98: tree pruning end, 10 extra nodes, 0 pruned nodes, max_depth=3\n",
      "[20:51:18] INFO: /Users/travis/build/dmlc/xgboost/src/tree/updater_prune.cc:98: tree pruning end, 12 extra nodes, 0 pruned nodes, max_depth=3\n",
      "[20:51:18] INFO: /Users/travis/build/dmlc/xgboost/src/tree/updater_prune.cc:98: tree pruning end, 12 extra nodes, 0 pruned nodes, max_depth=3\n",
      "[20:51:18] INFO: /Users/travis/build/dmlc/xgboost/src/tree/updater_prune.cc:98: tree pruning end, 12 extra nodes, 0 pruned nodes, max_depth=4\n",
      "[20:51:18] INFO: /Users/travis/build/dmlc/xgboost/src/tree/updater_prune.cc:98: tree pruning end, 12 extra nodes, 0 pruned nodes, max_depth=3\n",
      "[20:51:18] INFO: /Users/travis/build/dmlc/xgboost/src/tree/updater_prune.cc:98: tree pruning end, 10 extra nodes, 0 pruned nodes, max_depth=3\n",
      "[20:51:18] INFO: /Users/travis/build/dmlc/xgboost/src/tree/updater_prune.cc:98: tree pruning end, 12 extra nodes, 0 pruned nodes, max_depth=3\n",
      "[20:51:18] INFO: /Users/travis/build/dmlc/xgboost/src/tree/updater_prune.cc:98: tree pruning end, 12 extra nodes, 0 pruned nodes, max_depth=3\n",
      "[20:51:18] INFO: /Users/travis/build/dmlc/xgboost/src/tree/updater_prune.cc:98: tree pruning end, 12 extra nodes, 0 pruned nodes, max_depth=4\n",
      "[20:51:18] INFO: /Users/travis/build/dmlc/xgboost/src/tree/updater_prune.cc:98: tree pruning end, 12 extra nodes, 0 pruned nodes, max_depth=3\n",
      "[20:51:18] INFO: /Users/travis/build/dmlc/xgboost/src/tree/updater_prune.cc:98: tree pruning end, 12 extra nodes, 0 pruned nodes, max_depth=3\n",
      "[20:51:18] INFO: /Users/travis/build/dmlc/xgboost/src/tree/updater_prune.cc:98: tree pruning end, 10 extra nodes, 0 pruned nodes, max_depth=3\n",
      "[20:51:18] INFO: /Users/travis/build/dmlc/xgboost/src/tree/updater_prune.cc:98: tree pruning end, 12 extra nodes, 0 pruned nodes, max_depth=3\n",
      "[20:51:18] INFO: /Users/travis/build/dmlc/xgboost/src/tree/updater_prune.cc:98: tree pruning end, 12 extra nodes, 0 pruned nodes, max_depth=4\n",
      "[20:51:18] INFO: /Users/travis/build/dmlc/xgboost/src/tree/updater_prune.cc:98: tree pruning end, 12 extra nodes, 0 pruned nodes, max_depth=3\n",
      "[20:51:18] INFO: /Users/travis/build/dmlc/xgboost/src/tree/updater_prune.cc:98: tree pruning end, 12 extra nodes, 0 pruned nodes, max_depth=3\n",
      "[20:51:18] INFO: /Users/travis/build/dmlc/xgboost/src/tree/updater_prune.cc:98: tree pruning end, 12 extra nodes, 0 pruned nodes, max_depth=3\n",
      "[20:51:18] INFO: /Users/travis/build/dmlc/xgboost/src/tree/updater_prune.cc:98: tree pruning end, 10 extra nodes, 0 pruned nodes, max_depth=3\n",
      "[20:51:18] INFO: /Users/travis/build/dmlc/xgboost/src/tree/updater_prune.cc:98: tree pruning end, 12 extra nodes, 0 pruned nodes, max_depth=3\n",
      "[20:51:18] INFO: /Users/travis/build/dmlc/xgboost/src/tree/updater_prune.cc:98: tree pruning end, 12 extra nodes, 0 pruned nodes, max_depth=3\n",
      "[20:51:18] INFO: /Users/travis/build/dmlc/xgboost/src/tree/updater_prune.cc:98: tree pruning end, 10 extra nodes, 0 pruned nodes, max_depth=3\n",
      "[20:51:18] INFO: /Users/travis/build/dmlc/xgboost/src/tree/updater_prune.cc:98: tree pruning end, 12 extra nodes, 0 pruned nodes, max_depth=3\n",
      "[20:51:18] INFO: /Users/travis/build/dmlc/xgboost/src/tree/updater_prune.cc:98: tree pruning end, 12 extra nodes, 0 pruned nodes, max_depth=4\n",
      "[20:51:18] INFO: /Users/travis/build/dmlc/xgboost/src/tree/updater_prune.cc:98: tree pruning end, 12 extra nodes, 0 pruned nodes, max_depth=3\n",
      "[20:51:18] INFO: /Users/travis/build/dmlc/xgboost/src/tree/updater_prune.cc:98: tree pruning end, 12 extra nodes, 0 pruned nodes, max_depth=3\n",
      "[20:51:18] INFO: /Users/travis/build/dmlc/xgboost/src/tree/updater_prune.cc:98: tree pruning end, 10 extra nodes, 0 pruned nodes, max_depth=3\n",
      "[20:51:18] INFO: /Users/travis/build/dmlc/xgboost/src/tree/updater_prune.cc:98: tree pruning end, 12 extra nodes, 0 pruned nodes, max_depth=3\n",
      "[20:51:18] INFO: /Users/travis/build/dmlc/xgboost/src/tree/updater_prune.cc:98: tree pruning end, 10 extra nodes, 0 pruned nodes, max_depth=4\n",
      "[20:51:18] INFO: /Users/travis/build/dmlc/xgboost/src/tree/updater_prune.cc:98: tree pruning end, 12 extra nodes, 0 pruned nodes, max_depth=3\n",
      "[20:51:18] INFO: /Users/travis/build/dmlc/xgboost/src/tree/updater_prune.cc:98: tree pruning end, 12 extra nodes, 0 pruned nodes, max_depth=3\n",
      "[20:51:18] INFO: /Users/travis/build/dmlc/xgboost/src/tree/updater_prune.cc:98: tree pruning end, 12 extra nodes, 0 pruned nodes, max_depth=3\n",
      "[20:51:18] INFO: /Users/travis/build/dmlc/xgboost/src/tree/updater_prune.cc:98: tree pruning end, 10 extra nodes, 0 pruned nodes, max_depth=3\n",
      "[20:51:18] INFO: /Users/travis/build/dmlc/xgboost/src/tree/updater_prune.cc:98: tree pruning end, 10 extra nodes, 0 pruned nodes, max_depth=4\n",
      "[20:51:18] INFO: /Users/travis/build/dmlc/xgboost/src/tree/updater_prune.cc:98: tree pruning end, 12 extra nodes, 0 pruned nodes, max_depth=3\n",
      "[20:51:18] INFO: /Users/travis/build/dmlc/xgboost/src/tree/updater_prune.cc:98: tree pruning end, 10 extra nodes, 0 pruned nodes, max_depth=3\n"
     ]
    },
    {
     "name": "stdout",
     "output_type": "stream",
     "text": [
      "[20:51:18] INFO: /Users/travis/build/dmlc/xgboost/src/tree/updater_prune.cc:98: tree pruning end, 12 extra nodes, 0 pruned nodes, max_depth=3\n",
      "[20:51:18] INFO: /Users/travis/build/dmlc/xgboost/src/tree/updater_prune.cc:98: tree pruning end, 10 extra nodes, 0 pruned nodes, max_depth=4\n",
      "[20:51:18] INFO: /Users/travis/build/dmlc/xgboost/src/tree/updater_prune.cc:98: tree pruning end, 10 extra nodes, 0 pruned nodes, max_depth=3\n",
      "[20:51:18] INFO: /Users/travis/build/dmlc/xgboost/src/tree/updater_prune.cc:98: tree pruning end, 10 extra nodes, 0 pruned nodes, max_depth=3\n",
      "[20:51:18] INFO: /Users/travis/build/dmlc/xgboost/src/tree/updater_prune.cc:98: tree pruning end, 12 extra nodes, 0 pruned nodes, max_depth=3\n",
      "[20:51:18] INFO: /Users/travis/build/dmlc/xgboost/src/tree/updater_prune.cc:98: tree pruning end, 12 extra nodes, 0 pruned nodes, max_depth=3\n",
      "[20:51:18] INFO: /Users/travis/build/dmlc/xgboost/src/tree/updater_prune.cc:98: tree pruning end, 12 extra nodes, 0 pruned nodes, max_depth=4\n",
      "[20:51:18] INFO: /Users/travis/build/dmlc/xgboost/src/tree/updater_prune.cc:98: tree pruning end, 12 extra nodes, 0 pruned nodes, max_depth=4\n",
      "[20:51:18] INFO: /Users/travis/build/dmlc/xgboost/src/tree/updater_prune.cc:98: tree pruning end, 10 extra nodes, 0 pruned nodes, max_depth=3\n",
      "[20:51:18] INFO: /Users/travis/build/dmlc/xgboost/src/tree/updater_prune.cc:98: tree pruning end, 12 extra nodes, 0 pruned nodes, max_depth=4\n",
      "[20:51:18] INFO: /Users/travis/build/dmlc/xgboost/src/tree/updater_prune.cc:98: tree pruning end, 12 extra nodes, 0 pruned nodes, max_depth=4\n",
      "[20:51:18] INFO: /Users/travis/build/dmlc/xgboost/src/tree/updater_prune.cc:98: tree pruning end, 12 extra nodes, 0 pruned nodes, max_depth=3\n",
      "[20:51:18] INFO: /Users/travis/build/dmlc/xgboost/src/tree/updater_prune.cc:98: tree pruning end, 10 extra nodes, 0 pruned nodes, max_depth=3\n",
      "[20:51:18] INFO: /Users/travis/build/dmlc/xgboost/src/tree/updater_prune.cc:98: tree pruning end, 12 extra nodes, 0 pruned nodes, max_depth=4\n",
      "[20:51:18] INFO: /Users/travis/build/dmlc/xgboost/src/tree/updater_prune.cc:98: tree pruning end, 10 extra nodes, 0 pruned nodes, max_depth=3\n",
      "[20:51:18] INFO: /Users/travis/build/dmlc/xgboost/src/tree/updater_prune.cc:98: tree pruning end, 10 extra nodes, 0 pruned nodes, max_depth=3\n",
      "[20:51:18] INFO: /Users/travis/build/dmlc/xgboost/src/tree/updater_prune.cc:98: tree pruning end, 10 extra nodes, 0 pruned nodes, max_depth=3\n",
      "[20:51:18] INFO: /Users/travis/build/dmlc/xgboost/src/tree/updater_prune.cc:98: tree pruning end, 12 extra nodes, 0 pruned nodes, max_depth=4\n",
      "[20:51:18] INFO: /Users/travis/build/dmlc/xgboost/src/tree/updater_prune.cc:98: tree pruning end, 12 extra nodes, 0 pruned nodes, max_depth=4\n",
      "[20:51:18] INFO: /Users/travis/build/dmlc/xgboost/src/tree/updater_prune.cc:98: tree pruning end, 12 extra nodes, 0 pruned nodes, max_depth=3\n",
      "[20:51:18] INFO: /Users/travis/build/dmlc/xgboost/src/tree/updater_prune.cc:98: tree pruning end, 12 extra nodes, 0 pruned nodes, max_depth=4\n",
      "[20:51:18] INFO: /Users/travis/build/dmlc/xgboost/src/tree/updater_prune.cc:98: tree pruning end, 12 extra nodes, 0 pruned nodes, max_depth=4\n",
      "[20:51:18] INFO: /Users/travis/build/dmlc/xgboost/src/tree/updater_prune.cc:98: tree pruning end, 10 extra nodes, 0 pruned nodes, max_depth=3\n",
      "[20:51:18] INFO: /Users/travis/build/dmlc/xgboost/src/tree/updater_prune.cc:98: tree pruning end, 10 extra nodes, 0 pruned nodes, max_depth=3\n",
      "[20:51:18] INFO: /Users/travis/build/dmlc/xgboost/src/tree/updater_prune.cc:98: tree pruning end, 12 extra nodes, 0 pruned nodes, max_depth=4\n",
      "[20:51:18] INFO: /Users/travis/build/dmlc/xgboost/src/tree/updater_prune.cc:98: tree pruning end, 12 extra nodes, 0 pruned nodes, max_depth=4\n",
      "[20:51:18] INFO: /Users/travis/build/dmlc/xgboost/src/tree/updater_prune.cc:98: tree pruning end, 12 extra nodes, 0 pruned nodes, max_depth=3\n",
      "[20:51:18] INFO: /Users/travis/build/dmlc/xgboost/src/tree/updater_prune.cc:98: tree pruning end, 12 extra nodes, 0 pruned nodes, max_depth=4\n",
      "[20:51:18] INFO: /Users/travis/build/dmlc/xgboost/src/tree/updater_prune.cc:98: tree pruning end, 10 extra nodes, 0 pruned nodes, max_depth=3\n",
      "[20:51:18] INFO: /Users/travis/build/dmlc/xgboost/src/tree/updater_prune.cc:98: tree pruning end, 12 extra nodes, 0 pruned nodes, max_depth=4\n",
      "[20:51:18] INFO: /Users/travis/build/dmlc/xgboost/src/tree/updater_prune.cc:98: tree pruning end, 10 extra nodes, 0 pruned nodes, max_depth=4\n",
      "[20:51:18] INFO: /Users/travis/build/dmlc/xgboost/src/tree/updater_prune.cc:98: tree pruning end, 10 extra nodes, 0 pruned nodes, max_depth=3\n",
      "[20:51:18] INFO: /Users/travis/build/dmlc/xgboost/src/tree/updater_prune.cc:98: tree pruning end, 12 extra nodes, 0 pruned nodes, max_depth=3\n",
      "[20:51:18] INFO: /Users/travis/build/dmlc/xgboost/src/tree/updater_prune.cc:98: tree pruning end, 12 extra nodes, 0 pruned nodes, max_depth=4\n",
      "[20:51:18] INFO: /Users/travis/build/dmlc/xgboost/src/tree/updater_prune.cc:98: tree pruning end, 12 extra nodes, 0 pruned nodes, max_depth=4\n",
      "0.6833317279815674\n"
     ]
    }
   ],
   "source": [
    "model_1, preds, y_test = train_XGB(X, y)"
   ]
  },
  {
   "cell_type": "markdown",
   "metadata": {},
   "source": [
    "## Train On Real Dataset"
   ]
  },
  {
   "cell_type": "markdown",
   "metadata": {
    "pycharm": {
     "name": "#%% md\n"
    }
   },
   "source": [
    "First the data is loaded from the previously imported dataframe. The slicing is to take out the unneccesary columns saved in the file."
   ]
  },
  {
   "cell_type": "code",
   "execution_count": 24,
   "metadata": {
    "pycharm": {
     "name": "#%%\n"
    }
   },
   "outputs": [],
   "source": [
    "# Create full sized dataset\n",
    "X = df.iloc[:,2:4002]\n",
    "y = df['Labels']"
   ]
  },
  {
   "cell_type": "markdown",
   "metadata": {
    "pycharm": {
     "name": "#%% md\n"
    }
   },
   "source": [
    "Use the above function to train an XGBoost model on the dataset. It will return predictions and the y test set for validation. "
   ]
  },
  {
   "cell_type": "code",
   "execution_count": 135,
   "metadata": {
    "collapsed": true
   },
   "outputs": [
    {
     "name": "stdout",
     "output_type": "stream",
     "text": [
      "[20:59:59] INFO: /Users/travis/build/dmlc/xgboost/src/tree/updater_prune.cc:98: tree pruning end, 104 extra nodes, 0 pruned nodes, max_depth=6\n",
      "[20:59:59] INFO: /Users/travis/build/dmlc/xgboost/src/tree/updater_prune.cc:98: tree pruning end, 98 extra nodes, 0 pruned nodes, max_depth=6\n",
      "[21:00:00] INFO: /Users/travis/build/dmlc/xgboost/src/tree/updater_prune.cc:98: tree pruning end, 98 extra nodes, 0 pruned nodes, max_depth=6\n",
      "[21:00:00] INFO: /Users/travis/build/dmlc/xgboost/src/tree/updater_prune.cc:98: tree pruning end, 98 extra nodes, 0 pruned nodes, max_depth=6\n",
      "[21:00:01] INFO: /Users/travis/build/dmlc/xgboost/src/tree/updater_prune.cc:98: tree pruning end, 98 extra nodes, 0 pruned nodes, max_depth=6\n",
      "[21:00:01] INFO: /Users/travis/build/dmlc/xgboost/src/tree/updater_prune.cc:98: tree pruning end, 96 extra nodes, 0 pruned nodes, max_depth=6\n",
      "[21:00:02] INFO: /Users/travis/build/dmlc/xgboost/src/tree/updater_prune.cc:98: tree pruning end, 96 extra nodes, 0 pruned nodes, max_depth=6\n",
      "[21:00:02] INFO: /Users/travis/build/dmlc/xgboost/src/tree/updater_prune.cc:98: tree pruning end, 100 extra nodes, 0 pruned nodes, max_depth=6\n",
      "[21:00:03] INFO: /Users/travis/build/dmlc/xgboost/src/tree/updater_prune.cc:98: tree pruning end, 96 extra nodes, 0 pruned nodes, max_depth=6\n",
      "[21:00:03] INFO: /Users/travis/build/dmlc/xgboost/src/tree/updater_prune.cc:98: tree pruning end, 98 extra nodes, 0 pruned nodes, max_depth=6\n",
      "[21:00:04] INFO: /Users/travis/build/dmlc/xgboost/src/tree/updater_prune.cc:98: tree pruning end, 98 extra nodes, 0 pruned nodes, max_depth=6\n",
      "[21:00:04] INFO: /Users/travis/build/dmlc/xgboost/src/tree/updater_prune.cc:98: tree pruning end, 100 extra nodes, 0 pruned nodes, max_depth=6\n",
      "[21:00:05] INFO: /Users/travis/build/dmlc/xgboost/src/tree/updater_prune.cc:98: tree pruning end, 96 extra nodes, 0 pruned nodes, max_depth=6\n",
      "[21:00:05] INFO: /Users/travis/build/dmlc/xgboost/src/tree/updater_prune.cc:98: tree pruning end, 96 extra nodes, 0 pruned nodes, max_depth=6\n",
      "[21:00:06] INFO: /Users/travis/build/dmlc/xgboost/src/tree/updater_prune.cc:98: tree pruning end, 94 extra nodes, 0 pruned nodes, max_depth=6\n",
      "[21:00:07] INFO: /Users/travis/build/dmlc/xgboost/src/tree/updater_prune.cc:98: tree pruning end, 98 extra nodes, 0 pruned nodes, max_depth=6\n",
      "[21:00:08] INFO: /Users/travis/build/dmlc/xgboost/src/tree/updater_prune.cc:98: tree pruning end, 100 extra nodes, 0 pruned nodes, max_depth=6\n",
      "[21:00:09] INFO: /Users/travis/build/dmlc/xgboost/src/tree/updater_prune.cc:98: tree pruning end, 94 extra nodes, 0 pruned nodes, max_depth=6\n",
      "[21:00:10] INFO: /Users/travis/build/dmlc/xgboost/src/tree/updater_prune.cc:98: tree pruning end, 100 extra nodes, 0 pruned nodes, max_depth=6\n",
      "[21:00:11] INFO: /Users/travis/build/dmlc/xgboost/src/tree/updater_prune.cc:98: tree pruning end, 98 extra nodes, 0 pruned nodes, max_depth=6\n",
      "[21:00:12] INFO: /Users/travis/build/dmlc/xgboost/src/tree/updater_prune.cc:98: tree pruning end, 98 extra nodes, 0 pruned nodes, max_depth=6\n",
      "[21:00:13] INFO: /Users/travis/build/dmlc/xgboost/src/tree/updater_prune.cc:98: tree pruning end, 100 extra nodes, 0 pruned nodes, max_depth=6\n",
      "[21:00:14] INFO: /Users/travis/build/dmlc/xgboost/src/tree/updater_prune.cc:98: tree pruning end, 100 extra nodes, 0 pruned nodes, max_depth=6\n",
      "[21:00:15] INFO: /Users/travis/build/dmlc/xgboost/src/tree/updater_prune.cc:98: tree pruning end, 94 extra nodes, 0 pruned nodes, max_depth=6\n",
      "[21:00:15] INFO: /Users/travis/build/dmlc/xgboost/src/tree/updater_prune.cc:98: tree pruning end, 102 extra nodes, 0 pruned nodes, max_depth=6\n",
      "[21:00:16] INFO: /Users/travis/build/dmlc/xgboost/src/tree/updater_prune.cc:98: tree pruning end, 102 extra nodes, 0 pruned nodes, max_depth=6\n",
      "[21:00:17] INFO: /Users/travis/build/dmlc/xgboost/src/tree/updater_prune.cc:98: tree pruning end, 102 extra nodes, 0 pruned nodes, max_depth=6\n",
      "[21:00:18] INFO: /Users/travis/build/dmlc/xgboost/src/tree/updater_prune.cc:98: tree pruning end, 94 extra nodes, 0 pruned nodes, max_depth=6\n",
      "[21:00:19] INFO: /Users/travis/build/dmlc/xgboost/src/tree/updater_prune.cc:98: tree pruning end, 104 extra nodes, 0 pruned nodes, max_depth=6\n",
      "[21:00:20] INFO: /Users/travis/build/dmlc/xgboost/src/tree/updater_prune.cc:98: tree pruning end, 108 extra nodes, 0 pruned nodes, max_depth=6\n",
      "[21:00:20] INFO: /Users/travis/build/dmlc/xgboost/src/tree/updater_prune.cc:98: tree pruning end, 96 extra nodes, 0 pruned nodes, max_depth=6\n",
      "[21:00:21] INFO: /Users/travis/build/dmlc/xgboost/src/tree/updater_prune.cc:98: tree pruning end, 102 extra nodes, 0 pruned nodes, max_depth=6\n",
      "[21:00:22] INFO: /Users/travis/build/dmlc/xgboost/src/tree/updater_prune.cc:98: tree pruning end, 108 extra nodes, 0 pruned nodes, max_depth=6\n",
      "[21:00:23] INFO: /Users/travis/build/dmlc/xgboost/src/tree/updater_prune.cc:98: tree pruning end, 98 extra nodes, 0 pruned nodes, max_depth=6\n",
      "[21:00:24] INFO: /Users/travis/build/dmlc/xgboost/src/tree/updater_prune.cc:98: tree pruning end, 104 extra nodes, 0 pruned nodes, max_depth=6\n",
      "[21:00:25] INFO: /Users/travis/build/dmlc/xgboost/src/tree/updater_prune.cc:98: tree pruning end, 104 extra nodes, 0 pruned nodes, max_depth=6\n",
      "[21:00:26] INFO: /Users/travis/build/dmlc/xgboost/src/tree/updater_prune.cc:98: tree pruning end, 96 extra nodes, 0 pruned nodes, max_depth=6\n",
      "[21:00:26] INFO: /Users/travis/build/dmlc/xgboost/src/tree/updater_prune.cc:98: tree pruning end, 104 extra nodes, 0 pruned nodes, max_depth=6\n",
      "[21:00:27] INFO: /Users/travis/build/dmlc/xgboost/src/tree/updater_prune.cc:98: tree pruning end, 104 extra nodes, 0 pruned nodes, max_depth=6\n",
      "[21:00:28] INFO: /Users/travis/build/dmlc/xgboost/src/tree/updater_prune.cc:98: tree pruning end, 96 extra nodes, 0 pruned nodes, max_depth=6\n",
      "[21:00:29] INFO: /Users/travis/build/dmlc/xgboost/src/tree/updater_prune.cc:98: tree pruning end, 108 extra nodes, 0 pruned nodes, max_depth=6\n",
      "[21:00:30] INFO: /Users/travis/build/dmlc/xgboost/src/tree/updater_prune.cc:98: tree pruning end, 94 extra nodes, 0 pruned nodes, max_depth=6\n",
      "[21:00:31] INFO: /Users/travis/build/dmlc/xgboost/src/tree/updater_prune.cc:98: tree pruning end, 108 extra nodes, 0 pruned nodes, max_depth=6\n",
      "[21:00:32] INFO: /Users/travis/build/dmlc/xgboost/src/tree/updater_prune.cc:98: tree pruning end, 96 extra nodes, 0 pruned nodes, max_depth=6\n",
      "[21:00:33] INFO: /Users/travis/build/dmlc/xgboost/src/tree/updater_prune.cc:98: tree pruning end, 106 extra nodes, 0 pruned nodes, max_depth=6\n",
      "[21:00:34] INFO: /Users/travis/build/dmlc/xgboost/src/tree/updater_prune.cc:98: tree pruning end, 96 extra nodes, 0 pruned nodes, max_depth=6\n",
      "[21:00:34] INFO: /Users/travis/build/dmlc/xgboost/src/tree/updater_prune.cc:98: tree pruning end, 92 extra nodes, 0 pruned nodes, max_depth=6\n",
      "[21:00:35] INFO: /Users/travis/build/dmlc/xgboost/src/tree/updater_prune.cc:98: tree pruning end, 106 extra nodes, 0 pruned nodes, max_depth=6\n",
      "[21:00:36] INFO: /Users/travis/build/dmlc/xgboost/src/tree/updater_prune.cc:98: tree pruning end, 106 extra nodes, 0 pruned nodes, max_depth=6\n",
      "[21:00:37] INFO: /Users/travis/build/dmlc/xgboost/src/tree/updater_prune.cc:98: tree pruning end, 102 extra nodes, 0 pruned nodes, max_depth=6\n",
      "[21:00:38] INFO: /Users/travis/build/dmlc/xgboost/src/tree/updater_prune.cc:98: tree pruning end, 100 extra nodes, 0 pruned nodes, max_depth=6\n",
      "[21:00:38] INFO: /Users/travis/build/dmlc/xgboost/src/tree/updater_prune.cc:98: tree pruning end, 102 extra nodes, 0 pruned nodes, max_depth=6\n",
      "[21:00:39] INFO: /Users/travis/build/dmlc/xgboost/src/tree/updater_prune.cc:98: tree pruning end, 106 extra nodes, 0 pruned nodes, max_depth=6\n",
      "[21:00:40] INFO: /Users/travis/build/dmlc/xgboost/src/tree/updater_prune.cc:98: tree pruning end, 96 extra nodes, 0 pruned nodes, max_depth=6\n",
      "[21:00:41] INFO: /Users/travis/build/dmlc/xgboost/src/tree/updater_prune.cc:98: tree pruning end, 106 extra nodes, 0 pruned nodes, max_depth=6\n",
      "[21:00:42] INFO: /Users/travis/build/dmlc/xgboost/src/tree/updater_prune.cc:98: tree pruning end, 94 extra nodes, 0 pruned nodes, max_depth=6\n",
      "[21:00:43] INFO: /Users/travis/build/dmlc/xgboost/src/tree/updater_prune.cc:98: tree pruning end, 100 extra nodes, 0 pruned nodes, max_depth=6\n",
      "[21:00:44] INFO: /Users/travis/build/dmlc/xgboost/src/tree/updater_prune.cc:98: tree pruning end, 102 extra nodes, 0 pruned nodes, max_depth=6\n"
     ]
    },
    {
     "name": "stdout",
     "output_type": "stream",
     "text": [
      "[21:00:44] INFO: /Users/travis/build/dmlc/xgboost/src/tree/updater_prune.cc:98: tree pruning end, 108 extra nodes, 0 pruned nodes, max_depth=6\n",
      "[21:00:45] INFO: /Users/travis/build/dmlc/xgboost/src/tree/updater_prune.cc:98: tree pruning end, 98 extra nodes, 0 pruned nodes, max_depth=6\n",
      "[21:00:46] INFO: /Users/travis/build/dmlc/xgboost/src/tree/updater_prune.cc:98: tree pruning end, 108 extra nodes, 0 pruned nodes, max_depth=6\n",
      "[21:00:47] INFO: /Users/travis/build/dmlc/xgboost/src/tree/updater_prune.cc:98: tree pruning end, 104 extra nodes, 0 pruned nodes, max_depth=6\n",
      "[21:00:48] INFO: /Users/travis/build/dmlc/xgboost/src/tree/updater_prune.cc:98: tree pruning end, 102 extra nodes, 0 pruned nodes, max_depth=6\n",
      "[21:00:48] INFO: /Users/travis/build/dmlc/xgboost/src/tree/updater_prune.cc:98: tree pruning end, 106 extra nodes, 0 pruned nodes, max_depth=6\n",
      "[21:00:49] INFO: /Users/travis/build/dmlc/xgboost/src/tree/updater_prune.cc:98: tree pruning end, 106 extra nodes, 0 pruned nodes, max_depth=6\n",
      "[21:00:50] INFO: /Users/travis/build/dmlc/xgboost/src/tree/updater_prune.cc:98: tree pruning end, 96 extra nodes, 0 pruned nodes, max_depth=6\n",
      "[21:00:51] INFO: /Users/travis/build/dmlc/xgboost/src/tree/updater_prune.cc:98: tree pruning end, 106 extra nodes, 0 pruned nodes, max_depth=6\n",
      "[21:00:51] INFO: /Users/travis/build/dmlc/xgboost/src/tree/updater_prune.cc:98: tree pruning end, 100 extra nodes, 0 pruned nodes, max_depth=6\n",
      "[21:00:52] INFO: /Users/travis/build/dmlc/xgboost/src/tree/updater_prune.cc:98: tree pruning end, 100 extra nodes, 0 pruned nodes, max_depth=6\n",
      "[21:00:53] INFO: /Users/travis/build/dmlc/xgboost/src/tree/updater_prune.cc:98: tree pruning end, 110 extra nodes, 0 pruned nodes, max_depth=6\n",
      "[21:00:54] INFO: /Users/travis/build/dmlc/xgboost/src/tree/updater_prune.cc:98: tree pruning end, 100 extra nodes, 0 pruned nodes, max_depth=6\n",
      "[21:00:55] INFO: /Users/travis/build/dmlc/xgboost/src/tree/updater_prune.cc:98: tree pruning end, 102 extra nodes, 0 pruned nodes, max_depth=6\n",
      "[21:00:55] INFO: /Users/travis/build/dmlc/xgboost/src/tree/updater_prune.cc:98: tree pruning end, 92 extra nodes, 0 pruned nodes, max_depth=6\n",
      "[21:00:56] INFO: /Users/travis/build/dmlc/xgboost/src/tree/updater_prune.cc:98: tree pruning end, 96 extra nodes, 0 pruned nodes, max_depth=6\n",
      "[21:00:57] INFO: /Users/travis/build/dmlc/xgboost/src/tree/updater_prune.cc:98: tree pruning end, 104 extra nodes, 0 pruned nodes, max_depth=6\n",
      "[21:00:58] INFO: /Users/travis/build/dmlc/xgboost/src/tree/updater_prune.cc:98: tree pruning end, 102 extra nodes, 0 pruned nodes, max_depth=6\n",
      "[21:00:59] INFO: /Users/travis/build/dmlc/xgboost/src/tree/updater_prune.cc:98: tree pruning end, 102 extra nodes, 0 pruned nodes, max_depth=6\n",
      "[21:00:59] INFO: /Users/travis/build/dmlc/xgboost/src/tree/updater_prune.cc:98: tree pruning end, 90 extra nodes, 0 pruned nodes, max_depth=6\n",
      "[21:01:00] INFO: /Users/travis/build/dmlc/xgboost/src/tree/updater_prune.cc:98: tree pruning end, 102 extra nodes, 0 pruned nodes, max_depth=6\n",
      "[21:01:01] INFO: /Users/travis/build/dmlc/xgboost/src/tree/updater_prune.cc:98: tree pruning end, 104 extra nodes, 0 pruned nodes, max_depth=6\n",
      "[21:01:02] INFO: /Users/travis/build/dmlc/xgboost/src/tree/updater_prune.cc:98: tree pruning end, 98 extra nodes, 0 pruned nodes, max_depth=6\n",
      "[21:01:02] INFO: /Users/travis/build/dmlc/xgboost/src/tree/updater_prune.cc:98: tree pruning end, 108 extra nodes, 0 pruned nodes, max_depth=6\n",
      "[21:01:03] INFO: /Users/travis/build/dmlc/xgboost/src/tree/updater_prune.cc:98: tree pruning end, 110 extra nodes, 0 pruned nodes, max_depth=6\n",
      "[21:01:04] INFO: /Users/travis/build/dmlc/xgboost/src/tree/updater_prune.cc:98: tree pruning end, 100 extra nodes, 0 pruned nodes, max_depth=6\n",
      "[21:01:05] INFO: /Users/travis/build/dmlc/xgboost/src/tree/updater_prune.cc:98: tree pruning end, 104 extra nodes, 0 pruned nodes, max_depth=6\n",
      "[21:01:06] INFO: /Users/travis/build/dmlc/xgboost/src/tree/updater_prune.cc:98: tree pruning end, 96 extra nodes, 0 pruned nodes, max_depth=6\n",
      "[21:01:06] INFO: /Users/travis/build/dmlc/xgboost/src/tree/updater_prune.cc:98: tree pruning end, 112 extra nodes, 0 pruned nodes, max_depth=6\n",
      "[21:01:07] INFO: /Users/travis/build/dmlc/xgboost/src/tree/updater_prune.cc:98: tree pruning end, 98 extra nodes, 0 pruned nodes, max_depth=6\n",
      "[21:01:08] INFO: /Users/travis/build/dmlc/xgboost/src/tree/updater_prune.cc:98: tree pruning end, 98 extra nodes, 0 pruned nodes, max_depth=6\n",
      "[21:01:09] INFO: /Users/travis/build/dmlc/xgboost/src/tree/updater_prune.cc:98: tree pruning end, 98 extra nodes, 0 pruned nodes, max_depth=6\n",
      "[21:01:10] INFO: /Users/travis/build/dmlc/xgboost/src/tree/updater_prune.cc:98: tree pruning end, 98 extra nodes, 0 pruned nodes, max_depth=6\n",
      "[21:01:10] INFO: /Users/travis/build/dmlc/xgboost/src/tree/updater_prune.cc:98: tree pruning end, 98 extra nodes, 0 pruned nodes, max_depth=6\n",
      "[21:01:11] INFO: /Users/travis/build/dmlc/xgboost/src/tree/updater_prune.cc:98: tree pruning end, 102 extra nodes, 0 pruned nodes, max_depth=6\n",
      "[21:01:12] INFO: /Users/travis/build/dmlc/xgboost/src/tree/updater_prune.cc:98: tree pruning end, 98 extra nodes, 0 pruned nodes, max_depth=6\n",
      "[21:01:13] INFO: /Users/travis/build/dmlc/xgboost/src/tree/updater_prune.cc:98: tree pruning end, 102 extra nodes, 0 pruned nodes, max_depth=6\n",
      "[21:01:14] INFO: /Users/travis/build/dmlc/xgboost/src/tree/updater_prune.cc:98: tree pruning end, 102 extra nodes, 0 pruned nodes, max_depth=6\n",
      "[21:01:15] INFO: /Users/travis/build/dmlc/xgboost/src/tree/updater_prune.cc:98: tree pruning end, 92 extra nodes, 0 pruned nodes, max_depth=6\n",
      "[21:01:16] INFO: /Users/travis/build/dmlc/xgboost/src/tree/updater_prune.cc:98: tree pruning end, 96 extra nodes, 0 pruned nodes, max_depth=6\n",
      "[21:01:17] INFO: /Users/travis/build/dmlc/xgboost/src/tree/updater_prune.cc:98: tree pruning end, 96 extra nodes, 0 pruned nodes, max_depth=6\n",
      "[21:01:18] INFO: /Users/travis/build/dmlc/xgboost/src/tree/updater_prune.cc:98: tree pruning end, 106 extra nodes, 0 pruned nodes, max_depth=6\n",
      "79.9987781047821\n"
     ]
    }
   ],
   "source": [
    "model_2, preds, y_test = train_XGB(X, y)"
   ]
  },
  {
   "cell_type": "markdown",
   "metadata": {
    "pycharm": {
     "name": "#%% md\n"
    }
   },
   "source": [
    "Now the resulting accuracy will be visualized and investigated"
   ]
  },
  {
   "cell_type": "code",
   "execution_count": 141,
   "metadata": {},
   "outputs": [
    {
     "data": {
      "text/plain": [
       "<matplotlib.axes._subplots.AxesSubplot at 0x7fda9fbbe910>"
      ]
     },
     "execution_count": 141,
     "metadata": {},
     "output_type": "execute_result"
    },
    {
     "data": {
      "image/png": "[encoded data removed]",
      "text/plain": [
       "<Figure size 432x288 with 2 Axes>"
      ]
     },
     "metadata": {
      "needs_background": "light"
     },
     "output_type": "display_data"
    }
   ],
   "source": [
    "\n",
    "sns.heatmap(confusion_matrix(preds, y_test), annot=True)"
   ]
  },
  {
   "cell_type": "code",
   "execution_count": 139,
   "metadata": {},
   "outputs": [
    {
     "data": {
      "text/plain": [
       "0.804"
      ]
     },
     "execution_count": 139,
     "metadata": {},
     "output_type": "execute_result"
    }
   ],
   "source": [
    "accuracy_score(preds, y_test)"
   ]
  },
  {
   "cell_type": "code",
   "execution_count": 143,
   "metadata": {},
   "outputs": [
    {
     "name": "stdout",
     "output_type": "stream",
     "text": [
      "              precision    recall  f1-score   support\n",
      "\n",
      "           0       0.73      0.63      0.67       322\n",
      "           1       0.83      0.89      0.86       678\n",
      "\n",
      "    accuracy                           0.80      1000\n",
      "   macro avg       0.78      0.76      0.77      1000\n",
      "weighted avg       0.80      0.80      0.80      1000\n",
      "\n"
     ]
    }
   ],
   "source": [
    "print(classification_report(preds, y_test))"
   ]
  },
  {
   "cell_type": "markdown",
   "metadata": {
    "pycharm": {
     "name": "#%% md\n"
    }
   },
   "source": [
    "## Hyperparameter Tuning"
   ]
  },
  {
   "cell_type": "code",
   "execution_count": null,
   "metadata": {
    "pycharm": {
     "name": "#%%\n"
    }
   },
   "outputs": [],
   "source": [
    "# Create smaller dataset for sample training and hyperparameter tuning\n",
    "Xs = df.iloc[:500,2:4002]\n",
    "ys = df['Labels']\n",
    "ys = ys.iloc[:500]"
   ]
  },
  {
   "cell_type": "code",
   "execution_count": null,
   "metadata": {
    "pycharm": {
     "name": "#%%\n"
    }
   },
   "outputs": [],
   "source": [
    "#XGBoost hyper-parameter tuning\n",
    "def hyperParameterTuning(X, y):\n",
    "    param_tuning = {\n",
    "        'learning_rate': [0.01, 0.1],\n",
    "        'max_depth': [3, 5, 7],\n",
    "        'min_child_weight': [1, 3, 5],\n",
    "        'subsample': [0.5, 0.7],\n",
    "        'colsample_bytree': [0.5, 0.7],\n",
    "        'n_estimators' : [100, 200, 500],\n",
    "        'objective': ['reg:squarederror']\n",
    "    }\n",
    "    \n",
    "    # Train test split\n",
    "    X_train, X_test, y_train, y_test = train_test_split(X, y, test_size=0.2, random_state=1341)\n",
    "    \n",
    "    xgb_model = XGBClassifier()\n",
    "\n",
    "    gsearch = GridSearchCV(estimator = xgb_model,\n",
    "                           param_grid = param_tuning,                        \n",
    "                           #scoring = 'neg_mean_absolute_error', #MAE\n",
    "                           #scoring = 'neg_mean_squared_error',  #MSE\n",
    "                           cv = 3,\n",
    "                           n_jobs = -1,\n",
    "                           verbose = 2)\n",
    "\n",
    "    gsearch.fit(X_train, y_train)\n",
    "\n",
    "    return gsearch.best_params_"
   ]
  },
  {
   "cell_type": "code",
   "execution_count": null,
   "metadata": {
    "pycharm": {
     "name": "#%%\n"
    }
   },
   "outputs": [],
   "source": [
    "# Print hyperparameters\n",
    "params = hyperParameterTuning(Xs, ys)\n",
    "params"
   ]
  },
  {
   "cell_type": "markdown",
   "metadata": {},
   "source": [
    "## Train Model with Hyperparameters"
   ]
  },
  {
   "cell_type": "code",
   "execution_count": null,
   "metadata": {
    "pycharm": {
     "name": "#%%\n"
    }
   },
   "outputs": [],
   "source": [
    "model_3, preds, y_test = train_XGB(X, y, True)"
   ]
  },
  {
   "cell_type": "code",
   "execution_count": null,
   "metadata": {
    "pycharm": {
     "name": "#%%\n"
    }
   },
   "outputs": [],
   "source": [
    "accuracy_score(preds, y_test)"
   ]
  },
  {
   "cell_type": "code",
   "execution_count": null,
   "metadata": {
    "pycharm": {
     "name": "#%%\n"
    }
   },
   "outputs": [],
   "source": [
    "print(classification_report(preds, y_test))"
   ]
  },
  {
   "cell_type": "markdown",
   "metadata": {},
   "source": [
    "With a relativly high accuracy of 81% and much lower computational copmlexity, this model warrants training on the larger dataset."
   ]
  },
  {
   "cell_type": "code",
   "execution_count": null,
   "metadata": {
    "pycharm": {
     "name": "#%%\n"
    }
   },
   "outputs": [],
   "source": [
    "model_3.save_model('XGB_IPSC_Hyp.model')"
   ]
  },
  {
   "cell_type": "code",
   "execution_count": 25,
   "metadata": {},
   "outputs": [],
   "source": [
    "model_3.save_model('XGB_IPSC_Hyp.model')"
   ]
  },
  {
   "cell_type": "code",
   "execution_count": 9,
   "metadata": {},
   "outputs": [],
   "source": [
    "#XGBoost hyper-parameter tuning\n",
    "def hyperParameterTuning(X, y):\n",
    "    param_tuning = {\n",
    "        'learning_rate': [0.01, 0.1],\n",
    "        'max_depth': [3, 5, 7],\n",
    "        'min_child_weight': [1, 3, 5],\n",
    "        'subsample': [0.5, 0.7],\n",
    "        'colsample_bytree': [0.5, 0.7],\n",
    "        'n_estimators' : [100, 200, 500],\n",
    "        'objective': ['reg:squarederror']\n",
    "    }\n",
    "    \n",
    "    # Train test split\n",
    "    X_train, X_test, y_train, y_test = train_test_split(X, y, test_size=0.2, random_state=1341)\n",
    "    \n",
    "    xgb_model = XGBClassifier()\n",
    "\n",
    "    gsearch = GridSearchCV(estimator = xgb_model,\n",
    "                           param_grid = param_tuning,                        \n",
    "                           #scoring = 'neg_mean_absolute_error', #MAE\n",
    "                           #scoring = 'neg_mean_squared_error',  #MSE\n",
    "                           cv = 3,\n",
    "                           n_jobs = -1,\n",
    "                           verbose = 2)\n",
    "\n",
    "    gsearch.fit(X_train, y_train)\n",
    "\n",
    "    return gsearch.best_params_"
   ]
  },
  {
   "cell_type": "code",
   "execution_count": 18,
   "metadata": {},
   "outputs": [
    {
     "name": "stdout",
     "output_type": "stream",
     "text": [
      "Fitting 3 folds for each of 216 candidates, totalling 648 fits\n"
     ]
    },
    {
     "name": "stderr",
     "output_type": "stream",
     "text": [
      "[Parallel(n_jobs=-1)]: Using backend LokyBackend with 8 concurrent workers.\n",
      "[Parallel(n_jobs=-1)]: Done  25 tasks      | elapsed:  1.8min\n",
      "[Parallel(n_jobs=-1)]: Done 146 tasks      | elapsed: 14.1min\n",
      "[Parallel(n_jobs=-1)]: Done 349 tasks      | elapsed: 32.8min\n",
      "[Parallel(n_jobs=-1)]: Done 632 tasks      | elapsed: 68.7min\n",
      "[Parallel(n_jobs=-1)]: Done 648 out of 648 | elapsed: 71.4min finished\n"
     ]
    },
    {
     "data": {
      "text/plain": [
       "{'colsample_bytree': 0.7,\n",
       " 'learning_rate': 0.01,\n",
       " 'max_depth': 5,\n",
       " 'min_child_weight': 5,\n",
       " 'n_estimators': 500,\n",
       " 'objective': 'reg:squarederror',\n",
       " 'subsample': 0.5}"
      ]
     },
     "execution_count": 18,
     "metadata": {},
     "output_type": "execute_result"
    }
   ],
   "source": [
    "# Print hyperparameters\n",
    "params = hyperParameterTuning(Xs, ys)\n",
    "params"
   ]
  },
  {
   "cell_type": "markdown",
   "metadata": {},
   "source": [
    "## Train Model with Hyperparameters"
   ]
  },
  {
   "cell_type": "code",
   "execution_count": 34,
   "metadata": {
    "collapsed": true
   },
   "outputs": [
    {
     "name": "stdout",
     "output_type": "stream",
     "text": [
      "[15:12:55] INFO: /Users/travis/build/dmlc/xgboost/src/tree/updater_prune.cc:98: tree pruning end, 56 extra nodes, 0 pruned nodes, max_depth=5\n",
      "[15:12:56] INFO: /Users/travis/build/dmlc/xgboost/src/tree/updater_prune.cc:98: tree pruning end, 56 extra nodes, 0 pruned nodes, max_depth=5\n",
      "[15:12:56] INFO: /Users/travis/build/dmlc/xgboost/src/tree/updater_prune.cc:98: tree pruning end, 54 extra nodes, 0 pruned nodes, max_depth=5\n",
      "[15:12:57] INFO: /Users/travis/build/dmlc/xgboost/src/tree/updater_prune.cc:98: tree pruning end, 54 extra nodes, 0 pruned nodes, max_depth=5\n",
      "[15:12:57] INFO: /Users/travis/build/dmlc/xgboost/src/tree/updater_prune.cc:98: tree pruning end, 60 extra nodes, 0 pruned nodes, max_depth=5\n",
      "[15:12:58] INFO: /Users/travis/build/dmlc/xgboost/src/tree/updater_prune.cc:98: tree pruning end, 54 extra nodes, 0 pruned nodes, max_depth=5\n",
      "[15:12:58] INFO: /Users/travis/build/dmlc/xgboost/src/tree/updater_prune.cc:98: tree pruning end, 54 extra nodes, 0 pruned nodes, max_depth=5\n",
      "[15:12:59] INFO: /Users/travis/build/dmlc/xgboost/src/tree/updater_prune.cc:98: tree pruning end, 56 extra nodes, 0 pruned nodes, max_depth=5\n",
      "[15:12:59] INFO: /Users/travis/build/dmlc/xgboost/src/tree/updater_prune.cc:98: tree pruning end, 60 extra nodes, 0 pruned nodes, max_depth=5\n",
      "[15:13:00] INFO: /Users/travis/build/dmlc/xgboost/src/tree/updater_prune.cc:98: tree pruning end, 56 extra nodes, 0 pruned nodes, max_depth=5\n",
      "[15:13:00] INFO: /Users/travis/build/dmlc/xgboost/src/tree/updater_prune.cc:98: tree pruning end, 60 extra nodes, 0 pruned nodes, max_depth=5\n",
      "[15:13:01] INFO: /Users/travis/build/dmlc/xgboost/src/tree/updater_prune.cc:98: tree pruning end, 58 extra nodes, 0 pruned nodes, max_depth=5\n",
      "[15:13:02] INFO: /Users/travis/build/dmlc/xgboost/src/tree/updater_prune.cc:98: tree pruning end, 54 extra nodes, 0 pruned nodes, max_depth=5\n",
      "[15:13:02] INFO: /Users/travis/build/dmlc/xgboost/src/tree/updater_prune.cc:98: tree pruning end, 50 extra nodes, 0 pruned nodes, max_depth=5\n",
      "[15:13:03] INFO: /Users/travis/build/dmlc/xgboost/src/tree/updater_prune.cc:98: tree pruning end, 60 extra nodes, 0 pruned nodes, max_depth=5\n",
      "[15:13:04] INFO: /Users/travis/build/dmlc/xgboost/src/tree/updater_prune.cc:98: tree pruning end, 58 extra nodes, 0 pruned nodes, max_depth=5\n",
      "[15:13:05] INFO: /Users/travis/build/dmlc/xgboost/src/tree/updater_prune.cc:98: tree pruning end, 54 extra nodes, 0 pruned nodes, max_depth=5\n",
      "[15:13:05] INFO: /Users/travis/build/dmlc/xgboost/src/tree/updater_prune.cc:98: tree pruning end, 56 extra nodes, 0 pruned nodes, max_depth=5\n",
      "[15:13:06] INFO: /Users/travis/build/dmlc/xgboost/src/tree/updater_prune.cc:98: tree pruning end, 56 extra nodes, 0 pruned nodes, max_depth=5\n",
      "[15:13:07] INFO: /Users/travis/build/dmlc/xgboost/src/tree/updater_prune.cc:98: tree pruning end, 56 extra nodes, 0 pruned nodes, max_depth=5\n",
      "[15:13:07] INFO: /Users/travis/build/dmlc/xgboost/src/tree/updater_prune.cc:98: tree pruning end, 58 extra nodes, 0 pruned nodes, max_depth=5\n",
      "[15:13:08] INFO: /Users/travis/build/dmlc/xgboost/src/tree/updater_prune.cc:98: tree pruning end, 56 extra nodes, 0 pruned nodes, max_depth=5\n",
      "[15:13:09] INFO: /Users/travis/build/dmlc/xgboost/src/tree/updater_prune.cc:98: tree pruning end, 56 extra nodes, 0 pruned nodes, max_depth=5\n",
      "[15:13:10] INFO: /Users/travis/build/dmlc/xgboost/src/tree/updater_prune.cc:98: tree pruning end, 52 extra nodes, 0 pruned nodes, max_depth=5\n",
      "[15:13:11] INFO: /Users/travis/build/dmlc/xgboost/src/tree/updater_prune.cc:98: tree pruning end, 50 extra nodes, 0 pruned nodes, max_depth=5\n",
      "[15:13:11] INFO: /Users/travis/build/dmlc/xgboost/src/tree/updater_prune.cc:98: tree pruning end, 52 extra nodes, 0 pruned nodes, max_depth=5\n",
      "[15:13:12] INFO: /Users/travis/build/dmlc/xgboost/src/tree/updater_prune.cc:98: tree pruning end, 52 extra nodes, 0 pruned nodes, max_depth=5\n",
      "[15:13:13] INFO: /Users/travis/build/dmlc/xgboost/src/tree/updater_prune.cc:98: tree pruning end, 58 extra nodes, 0 pruned nodes, max_depth=5\n",
      "[15:13:13] INFO: /Users/travis/build/dmlc/xgboost/src/tree/updater_prune.cc:98: tree pruning end, 54 extra nodes, 0 pruned nodes, max_depth=5\n",
      "[15:13:15] INFO: /Users/travis/build/dmlc/xgboost/src/tree/updater_prune.cc:98: tree pruning end, 54 extra nodes, 0 pruned nodes, max_depth=5\n",
      "[15:13:15] INFO: /Users/travis/build/dmlc/xgboost/src/tree/updater_prune.cc:98: tree pruning end, 46 extra nodes, 0 pruned nodes, max_depth=5\n",
      "[15:13:16] INFO: /Users/travis/build/dmlc/xgboost/src/tree/updater_prune.cc:98: tree pruning end, 58 extra nodes, 0 pruned nodes, max_depth=5\n",
      "[15:13:17] INFO: /Users/travis/build/dmlc/xgboost/src/tree/updater_prune.cc:98: tree pruning end, 52 extra nodes, 0 pruned nodes, max_depth=5\n",
      "[15:13:17] INFO: /Users/travis/build/dmlc/xgboost/src/tree/updater_prune.cc:98: tree pruning end, 54 extra nodes, 0 pruned nodes, max_depth=5\n",
      "[15:13:18] INFO: /Users/travis/build/dmlc/xgboost/src/tree/updater_prune.cc:98: tree pruning end, 54 extra nodes, 0 pruned nodes, max_depth=5\n",
      "[15:13:18] INFO: /Users/travis/build/dmlc/xgboost/src/tree/updater_prune.cc:98: tree pruning end, 54 extra nodes, 0 pruned nodes, max_depth=5\n",
      "[15:13:19] INFO: /Users/travis/build/dmlc/xgboost/src/tree/updater_prune.cc:98: tree pruning end, 54 extra nodes, 0 pruned nodes, max_depth=5\n",
      "[15:13:19] INFO: /Users/travis/build/dmlc/xgboost/src/tree/updater_prune.cc:98: tree pruning end, 54 extra nodes, 0 pruned nodes, max_depth=5\n",
      "[15:13:20] INFO: /Users/travis/build/dmlc/xgboost/src/tree/updater_prune.cc:98: tree pruning end, 58 extra nodes, 0 pruned nodes, max_depth=5\n",
      "[15:13:20] INFO: /Users/travis/build/dmlc/xgboost/src/tree/updater_prune.cc:98: tree pruning end, 58 extra nodes, 0 pruned nodes, max_depth=5\n",
      "[15:13:21] INFO: /Users/travis/build/dmlc/xgboost/src/tree/updater_prune.cc:98: tree pruning end, 48 extra nodes, 0 pruned nodes, max_depth=5\n",
      "[15:13:21] INFO: /Users/travis/build/dmlc/xgboost/src/tree/updater_prune.cc:98: tree pruning end, 56 extra nodes, 0 pruned nodes, max_depth=5\n",
      "[15:13:22] INFO: /Users/travis/build/dmlc/xgboost/src/tree/updater_prune.cc:98: tree pruning end, 54 extra nodes, 0 pruned nodes, max_depth=5\n",
      "[15:13:22] INFO: /Users/travis/build/dmlc/xgboost/src/tree/updater_prune.cc:98: tree pruning end, 58 extra nodes, 0 pruned nodes, max_depth=5\n",
      "[15:13:23] INFO: /Users/travis/build/dmlc/xgboost/src/tree/updater_prune.cc:98: tree pruning end, 52 extra nodes, 0 pruned nodes, max_depth=5\n",
      "[15:13:24] INFO: /Users/travis/build/dmlc/xgboost/src/tree/updater_prune.cc:98: tree pruning end, 52 extra nodes, 0 pruned nodes, max_depth=5\n",
      "[15:13:24] INFO: /Users/travis/build/dmlc/xgboost/src/tree/updater_prune.cc:98: tree pruning end, 60 extra nodes, 0 pruned nodes, max_depth=5\n",
      "[15:13:25] INFO: /Users/travis/build/dmlc/xgboost/src/tree/updater_prune.cc:98: tree pruning end, 48 extra nodes, 0 pruned nodes, max_depth=5\n",
      "[15:13:25] INFO: /Users/travis/build/dmlc/xgboost/src/tree/updater_prune.cc:98: tree pruning end, 54 extra nodes, 0 pruned nodes, max_depth=5\n",
      "[15:13:26] INFO: /Users/travis/build/dmlc/xgboost/src/tree/updater_prune.cc:98: tree pruning end, 58 extra nodes, 0 pruned nodes, max_depth=5\n",
      "[15:13:26] INFO: /Users/travis/build/dmlc/xgboost/src/tree/updater_prune.cc:98: tree pruning end, 48 extra nodes, 0 pruned nodes, max_depth=5\n",
      "[15:13:27] INFO: /Users/travis/build/dmlc/xgboost/src/tree/updater_prune.cc:98: tree pruning end, 52 extra nodes, 0 pruned nodes, max_depth=5\n",
      "[15:13:27] INFO: /Users/travis/build/dmlc/xgboost/src/tree/updater_prune.cc:98: tree pruning end, 56 extra nodes, 0 pruned nodes, max_depth=5\n",
      "[15:13:28] INFO: /Users/travis/build/dmlc/xgboost/src/tree/updater_prune.cc:98: tree pruning end, 50 extra nodes, 0 pruned nodes, max_depth=5\n",
      "[15:13:29] INFO: /Users/travis/build/dmlc/xgboost/src/tree/updater_prune.cc:98: tree pruning end, 58 extra nodes, 0 pruned nodes, max_depth=5\n",
      "[15:13:30] INFO: /Users/travis/build/dmlc/xgboost/src/tree/updater_prune.cc:98: tree pruning end, 52 extra nodes, 0 pruned nodes, max_depth=5\n",
      "[15:13:31] INFO: /Users/travis/build/dmlc/xgboost/src/tree/updater_prune.cc:98: tree pruning end, 52 extra nodes, 0 pruned nodes, max_depth=5\n",
      "[15:13:31] INFO: /Users/travis/build/dmlc/xgboost/src/tree/updater_prune.cc:98: tree pruning end, 48 extra nodes, 0 pruned nodes, max_depth=5\n"
     ]
    },
    {
     "name": "stdout",
     "output_type": "stream",
     "text": [
      "[15:13:32] INFO: /Users/travis/build/dmlc/xgboost/src/tree/updater_prune.cc:98: tree pruning end, 48 extra nodes, 0 pruned nodes, max_depth=5\n",
      "[15:13:32] INFO: /Users/travis/build/dmlc/xgboost/src/tree/updater_prune.cc:98: tree pruning end, 56 extra nodes, 0 pruned nodes, max_depth=5\n",
      "[15:13:33] INFO: /Users/travis/build/dmlc/xgboost/src/tree/updater_prune.cc:98: tree pruning end, 58 extra nodes, 0 pruned nodes, max_depth=5\n",
      "[15:13:34] INFO: /Users/travis/build/dmlc/xgboost/src/tree/updater_prune.cc:98: tree pruning end, 52 extra nodes, 0 pruned nodes, max_depth=5\n",
      "[15:13:34] INFO: /Users/travis/build/dmlc/xgboost/src/tree/updater_prune.cc:98: tree pruning end, 62 extra nodes, 0 pruned nodes, max_depth=5\n",
      "[15:13:35] INFO: /Users/travis/build/dmlc/xgboost/src/tree/updater_prune.cc:98: tree pruning end, 58 extra nodes, 0 pruned nodes, max_depth=5\n",
      "[15:13:36] INFO: /Users/travis/build/dmlc/xgboost/src/tree/updater_prune.cc:98: tree pruning end, 40 extra nodes, 0 pruned nodes, max_depth=5\n",
      "[15:13:36] INFO: /Users/travis/build/dmlc/xgboost/src/tree/updater_prune.cc:98: tree pruning end, 56 extra nodes, 0 pruned nodes, max_depth=5\n",
      "[15:13:37] INFO: /Users/travis/build/dmlc/xgboost/src/tree/updater_prune.cc:98: tree pruning end, 52 extra nodes, 0 pruned nodes, max_depth=5\n",
      "[15:13:38] INFO: /Users/travis/build/dmlc/xgboost/src/tree/updater_prune.cc:98: tree pruning end, 52 extra nodes, 0 pruned nodes, max_depth=5\n",
      "[15:13:39] INFO: /Users/travis/build/dmlc/xgboost/src/tree/updater_prune.cc:98: tree pruning end, 52 extra nodes, 0 pruned nodes, max_depth=5\n",
      "[15:13:41] INFO: /Users/travis/build/dmlc/xgboost/src/tree/updater_prune.cc:98: tree pruning end, 50 extra nodes, 0 pruned nodes, max_depth=5\n",
      "[15:13:42] INFO: /Users/travis/build/dmlc/xgboost/src/tree/updater_prune.cc:98: tree pruning end, 54 extra nodes, 0 pruned nodes, max_depth=5\n",
      "[15:13:43] INFO: /Users/travis/build/dmlc/xgboost/src/tree/updater_prune.cc:98: tree pruning end, 52 extra nodes, 0 pruned nodes, max_depth=5\n",
      "[15:13:43] INFO: /Users/travis/build/dmlc/xgboost/src/tree/updater_prune.cc:98: tree pruning end, 52 extra nodes, 0 pruned nodes, max_depth=5\n",
      "[15:13:44] INFO: /Users/travis/build/dmlc/xgboost/src/tree/updater_prune.cc:98: tree pruning end, 52 extra nodes, 0 pruned nodes, max_depth=5\n",
      "[15:13:45] INFO: /Users/travis/build/dmlc/xgboost/src/tree/updater_prune.cc:98: tree pruning end, 56 extra nodes, 0 pruned nodes, max_depth=5\n",
      "[15:13:45] INFO: /Users/travis/build/dmlc/xgboost/src/tree/updater_prune.cc:98: tree pruning end, 48 extra nodes, 0 pruned nodes, max_depth=5\n",
      "[15:13:46] INFO: /Users/travis/build/dmlc/xgboost/src/tree/updater_prune.cc:98: tree pruning end, 54 extra nodes, 0 pruned nodes, max_depth=5\n",
      "[15:13:46] INFO: /Users/travis/build/dmlc/xgboost/src/tree/updater_prune.cc:98: tree pruning end, 48 extra nodes, 0 pruned nodes, max_depth=5\n",
      "[15:13:47] INFO: /Users/travis/build/dmlc/xgboost/src/tree/updater_prune.cc:98: tree pruning end, 54 extra nodes, 0 pruned nodes, max_depth=5\n",
      "[15:13:47] INFO: /Users/travis/build/dmlc/xgboost/src/tree/updater_prune.cc:98: tree pruning end, 48 extra nodes, 0 pruned nodes, max_depth=5\n",
      "[15:13:48] INFO: /Users/travis/build/dmlc/xgboost/src/tree/updater_prune.cc:98: tree pruning end, 48 extra nodes, 0 pruned nodes, max_depth=5\n",
      "[15:13:49] INFO: /Users/travis/build/dmlc/xgboost/src/tree/updater_prune.cc:98: tree pruning end, 58 extra nodes, 0 pruned nodes, max_depth=5\n",
      "[15:13:49] INFO: /Users/travis/build/dmlc/xgboost/src/tree/updater_prune.cc:98: tree pruning end, 50 extra nodes, 0 pruned nodes, max_depth=5\n",
      "[15:13:50] INFO: /Users/travis/build/dmlc/xgboost/src/tree/updater_prune.cc:98: tree pruning end, 62 extra nodes, 0 pruned nodes, max_depth=5\n",
      "[15:13:50] INFO: /Users/travis/build/dmlc/xgboost/src/tree/updater_prune.cc:98: tree pruning end, 58 extra nodes, 0 pruned nodes, max_depth=5\n",
      "[15:13:51] INFO: /Users/travis/build/dmlc/xgboost/src/tree/updater_prune.cc:98: tree pruning end, 54 extra nodes, 0 pruned nodes, max_depth=5\n",
      "[15:13:51] INFO: /Users/travis/build/dmlc/xgboost/src/tree/updater_prune.cc:98: tree pruning end, 56 extra nodes, 0 pruned nodes, max_depth=5\n",
      "[15:13:52] INFO: /Users/travis/build/dmlc/xgboost/src/tree/updater_prune.cc:98: tree pruning end, 60 extra nodes, 0 pruned nodes, max_depth=5\n",
      "[15:13:52] INFO: /Users/travis/build/dmlc/xgboost/src/tree/updater_prune.cc:98: tree pruning end, 46 extra nodes, 0 pruned nodes, max_depth=5\n",
      "[15:13:53] INFO: /Users/travis/build/dmlc/xgboost/src/tree/updater_prune.cc:98: tree pruning end, 56 extra nodes, 0 pruned nodes, max_depth=5\n",
      "[15:13:53] INFO: /Users/travis/build/dmlc/xgboost/src/tree/updater_prune.cc:98: tree pruning end, 56 extra nodes, 0 pruned nodes, max_depth=5\n",
      "[15:13:54] INFO: /Users/travis/build/dmlc/xgboost/src/tree/updater_prune.cc:98: tree pruning end, 52 extra nodes, 0 pruned nodes, max_depth=5\n",
      "[15:13:54] INFO: /Users/travis/build/dmlc/xgboost/src/tree/updater_prune.cc:98: tree pruning end, 54 extra nodes, 0 pruned nodes, max_depth=5\n",
      "[15:13:55] INFO: /Users/travis/build/dmlc/xgboost/src/tree/updater_prune.cc:98: tree pruning end, 48 extra nodes, 0 pruned nodes, max_depth=5\n",
      "[15:13:55] INFO: /Users/travis/build/dmlc/xgboost/src/tree/updater_prune.cc:98: tree pruning end, 52 extra nodes, 0 pruned nodes, max_depth=5\n",
      "[15:13:56] INFO: /Users/travis/build/dmlc/xgboost/src/tree/updater_prune.cc:98: tree pruning end, 50 extra nodes, 0 pruned nodes, max_depth=5\n",
      "[15:13:57] INFO: /Users/travis/build/dmlc/xgboost/src/tree/updater_prune.cc:98: tree pruning end, 58 extra nodes, 0 pruned nodes, max_depth=5\n",
      "[15:13:57] INFO: /Users/travis/build/dmlc/xgboost/src/tree/updater_prune.cc:98: tree pruning end, 48 extra nodes, 0 pruned nodes, max_depth=5\n",
      "[15:13:58] INFO: /Users/travis/build/dmlc/xgboost/src/tree/updater_prune.cc:98: tree pruning end, 56 extra nodes, 0 pruned nodes, max_depth=5\n",
      "[15:13:58] INFO: /Users/travis/build/dmlc/xgboost/src/tree/updater_prune.cc:98: tree pruning end, 52 extra nodes, 0 pruned nodes, max_depth=5\n",
      "[15:13:59] INFO: /Users/travis/build/dmlc/xgboost/src/tree/updater_prune.cc:98: tree pruning end, 54 extra nodes, 0 pruned nodes, max_depth=5\n",
      "[15:13:59] INFO: /Users/travis/build/dmlc/xgboost/src/tree/updater_prune.cc:98: tree pruning end, 54 extra nodes, 0 pruned nodes, max_depth=5\n",
      "[15:14:00] INFO: /Users/travis/build/dmlc/xgboost/src/tree/updater_prune.cc:98: tree pruning end, 54 extra nodes, 0 pruned nodes, max_depth=5\n",
      "[15:14:01] INFO: /Users/travis/build/dmlc/xgboost/src/tree/updater_prune.cc:98: tree pruning end, 54 extra nodes, 0 pruned nodes, max_depth=5\n",
      "[15:14:01] INFO: /Users/travis/build/dmlc/xgboost/src/tree/updater_prune.cc:98: tree pruning end, 46 extra nodes, 0 pruned nodes, max_depth=5\n",
      "[15:14:02] INFO: /Users/travis/build/dmlc/xgboost/src/tree/updater_prune.cc:98: tree pruning end, 50 extra nodes, 0 pruned nodes, max_depth=5\n",
      "[15:14:02] INFO: /Users/travis/build/dmlc/xgboost/src/tree/updater_prune.cc:98: tree pruning end, 48 extra nodes, 0 pruned nodes, max_depth=5\n",
      "[15:14:03] INFO: /Users/travis/build/dmlc/xgboost/src/tree/updater_prune.cc:98: tree pruning end, 58 extra nodes, 0 pruned nodes, max_depth=5\n",
      "[15:14:03] INFO: /Users/travis/build/dmlc/xgboost/src/tree/updater_prune.cc:98: tree pruning end, 50 extra nodes, 0 pruned nodes, max_depth=5\n",
      "[15:14:04] INFO: /Users/travis/build/dmlc/xgboost/src/tree/updater_prune.cc:98: tree pruning end, 56 extra nodes, 0 pruned nodes, max_depth=5\n",
      "[15:14:04] INFO: /Users/travis/build/dmlc/xgboost/src/tree/updater_prune.cc:98: tree pruning end, 52 extra nodes, 0 pruned nodes, max_depth=5\n",
      "[15:14:05] INFO: /Users/travis/build/dmlc/xgboost/src/tree/updater_prune.cc:98: tree pruning end, 46 extra nodes, 0 pruned nodes, max_depth=5\n",
      "[15:14:05] INFO: /Users/travis/build/dmlc/xgboost/src/tree/updater_prune.cc:98: tree pruning end, 48 extra nodes, 0 pruned nodes, max_depth=5\n",
      "[15:14:06] INFO: /Users/travis/build/dmlc/xgboost/src/tree/updater_prune.cc:98: tree pruning end, 54 extra nodes, 0 pruned nodes, max_depth=5\n",
      "[15:14:07] INFO: /Users/travis/build/dmlc/xgboost/src/tree/updater_prune.cc:98: tree pruning end, 54 extra nodes, 0 pruned nodes, max_depth=5\n",
      "[15:14:07] INFO: /Users/travis/build/dmlc/xgboost/src/tree/updater_prune.cc:98: tree pruning end, 48 extra nodes, 0 pruned nodes, max_depth=5\n"
     ]
    },
    {
     "name": "stdout",
     "output_type": "stream",
     "text": [
      "[15:14:08] INFO: /Users/travis/build/dmlc/xgboost/src/tree/updater_prune.cc:98: tree pruning end, 56 extra nodes, 0 pruned nodes, max_depth=5\n",
      "[15:14:08] INFO: /Users/travis/build/dmlc/xgboost/src/tree/updater_prune.cc:98: tree pruning end, 48 extra nodes, 0 pruned nodes, max_depth=5\n",
      "[15:14:09] INFO: /Users/travis/build/dmlc/xgboost/src/tree/updater_prune.cc:98: tree pruning end, 52 extra nodes, 0 pruned nodes, max_depth=5\n",
      "[15:14:09] INFO: /Users/travis/build/dmlc/xgboost/src/tree/updater_prune.cc:98: tree pruning end, 44 extra nodes, 0 pruned nodes, max_depth=5\n",
      "[15:14:10] INFO: /Users/travis/build/dmlc/xgboost/src/tree/updater_prune.cc:98: tree pruning end, 58 extra nodes, 0 pruned nodes, max_depth=5\n",
      "[15:14:11] INFO: /Users/travis/build/dmlc/xgboost/src/tree/updater_prune.cc:98: tree pruning end, 52 extra nodes, 0 pruned nodes, max_depth=5\n",
      "[15:14:11] INFO: /Users/travis/build/dmlc/xgboost/src/tree/updater_prune.cc:98: tree pruning end, 54 extra nodes, 0 pruned nodes, max_depth=5\n",
      "[15:14:12] INFO: /Users/travis/build/dmlc/xgboost/src/tree/updater_prune.cc:98: tree pruning end, 44 extra nodes, 0 pruned nodes, max_depth=5\n",
      "[15:14:12] INFO: /Users/travis/build/dmlc/xgboost/src/tree/updater_prune.cc:98: tree pruning end, 46 extra nodes, 0 pruned nodes, max_depth=5\n",
      "[15:14:13] INFO: /Users/travis/build/dmlc/xgboost/src/tree/updater_prune.cc:98: tree pruning end, 44 extra nodes, 0 pruned nodes, max_depth=5\n",
      "[15:14:13] INFO: /Users/travis/build/dmlc/xgboost/src/tree/updater_prune.cc:98: tree pruning end, 44 extra nodes, 0 pruned nodes, max_depth=5\n",
      "[15:14:14] INFO: /Users/travis/build/dmlc/xgboost/src/tree/updater_prune.cc:98: tree pruning end, 54 extra nodes, 0 pruned nodes, max_depth=5\n",
      "[15:14:14] INFO: /Users/travis/build/dmlc/xgboost/src/tree/updater_prune.cc:98: tree pruning end, 44 extra nodes, 0 pruned nodes, max_depth=5\n",
      "[15:14:15] INFO: /Users/travis/build/dmlc/xgboost/src/tree/updater_prune.cc:98: tree pruning end, 54 extra nodes, 0 pruned nodes, max_depth=5\n",
      "[15:14:15] INFO: /Users/travis/build/dmlc/xgboost/src/tree/updater_prune.cc:98: tree pruning end, 50 extra nodes, 0 pruned nodes, max_depth=5\n",
      "[15:14:16] INFO: /Users/travis/build/dmlc/xgboost/src/tree/updater_prune.cc:98: tree pruning end, 44 extra nodes, 0 pruned nodes, max_depth=5\n",
      "[15:14:17] INFO: /Users/travis/build/dmlc/xgboost/src/tree/updater_prune.cc:98: tree pruning end, 52 extra nodes, 0 pruned nodes, max_depth=5\n",
      "[15:14:18] INFO: /Users/travis/build/dmlc/xgboost/src/tree/updater_prune.cc:98: tree pruning end, 56 extra nodes, 0 pruned nodes, max_depth=5\n",
      "[15:14:18] INFO: /Users/travis/build/dmlc/xgboost/src/tree/updater_prune.cc:98: tree pruning end, 48 extra nodes, 0 pruned nodes, max_depth=5\n",
      "[15:14:18] INFO: /Users/travis/build/dmlc/xgboost/src/tree/updater_prune.cc:98: tree pruning end, 50 extra nodes, 0 pruned nodes, max_depth=5\n",
      "[15:14:19] INFO: /Users/travis/build/dmlc/xgboost/src/tree/updater_prune.cc:98: tree pruning end, 52 extra nodes, 0 pruned nodes, max_depth=5\n",
      "[15:14:19] INFO: /Users/travis/build/dmlc/xgboost/src/tree/updater_prune.cc:98: tree pruning end, 40 extra nodes, 0 pruned nodes, max_depth=5\n",
      "[15:14:20] INFO: /Users/travis/build/dmlc/xgboost/src/tree/updater_prune.cc:98: tree pruning end, 44 extra nodes, 0 pruned nodes, max_depth=5\n",
      "[15:14:21] INFO: /Users/travis/build/dmlc/xgboost/src/tree/updater_prune.cc:98: tree pruning end, 46 extra nodes, 0 pruned nodes, max_depth=5\n",
      "[15:14:21] INFO: /Users/travis/build/dmlc/xgboost/src/tree/updater_prune.cc:98: tree pruning end, 58 extra nodes, 0 pruned nodes, max_depth=5\n",
      "[15:14:22] INFO: /Users/travis/build/dmlc/xgboost/src/tree/updater_prune.cc:98: tree pruning end, 42 extra nodes, 0 pruned nodes, max_depth=5\n",
      "[15:14:22] INFO: /Users/travis/build/dmlc/xgboost/src/tree/updater_prune.cc:98: tree pruning end, 54 extra nodes, 0 pruned nodes, max_depth=5\n",
      "[15:14:23] INFO: /Users/travis/build/dmlc/xgboost/src/tree/updater_prune.cc:98: tree pruning end, 42 extra nodes, 0 pruned nodes, max_depth=5\n",
      "[15:14:23] INFO: /Users/travis/build/dmlc/xgboost/src/tree/updater_prune.cc:98: tree pruning end, 46 extra nodes, 0 pruned nodes, max_depth=5\n",
      "[15:14:24] INFO: /Users/travis/build/dmlc/xgboost/src/tree/updater_prune.cc:98: tree pruning end, 46 extra nodes, 0 pruned nodes, max_depth=5\n",
      "[15:14:24] INFO: /Users/travis/build/dmlc/xgboost/src/tree/updater_prune.cc:98: tree pruning end, 40 extra nodes, 0 pruned nodes, max_depth=5\n",
      "[15:14:25] INFO: /Users/travis/build/dmlc/xgboost/src/tree/updater_prune.cc:98: tree pruning end, 44 extra nodes, 0 pruned nodes, max_depth=5\n",
      "[15:14:25] INFO: /Users/travis/build/dmlc/xgboost/src/tree/updater_prune.cc:98: tree pruning end, 48 extra nodes, 0 pruned nodes, max_depth=5\n",
      "[15:14:26] INFO: /Users/travis/build/dmlc/xgboost/src/tree/updater_prune.cc:98: tree pruning end, 42 extra nodes, 0 pruned nodes, max_depth=5\n",
      "[15:14:27] INFO: /Users/travis/build/dmlc/xgboost/src/tree/updater_prune.cc:98: tree pruning end, 46 extra nodes, 0 pruned nodes, max_depth=5\n",
      "[15:14:27] INFO: /Users/travis/build/dmlc/xgboost/src/tree/updater_prune.cc:98: tree pruning end, 54 extra nodes, 0 pruned nodes, max_depth=5\n",
      "[15:14:28] INFO: /Users/travis/build/dmlc/xgboost/src/tree/updater_prune.cc:98: tree pruning end, 56 extra nodes, 0 pruned nodes, max_depth=5\n",
      "[15:14:28] INFO: /Users/travis/build/dmlc/xgboost/src/tree/updater_prune.cc:98: tree pruning end, 56 extra nodes, 0 pruned nodes, max_depth=5\n",
      "[15:14:29] INFO: /Users/travis/build/dmlc/xgboost/src/tree/updater_prune.cc:98: tree pruning end, 56 extra nodes, 0 pruned nodes, max_depth=5\n",
      "[15:14:29] INFO: /Users/travis/build/dmlc/xgboost/src/tree/updater_prune.cc:98: tree pruning end, 56 extra nodes, 0 pruned nodes, max_depth=5\n",
      "[15:14:30] INFO: /Users/travis/build/dmlc/xgboost/src/tree/updater_prune.cc:98: tree pruning end, 50 extra nodes, 0 pruned nodes, max_depth=5\n",
      "[15:14:31] INFO: /Users/travis/build/dmlc/xgboost/src/tree/updater_prune.cc:98: tree pruning end, 46 extra nodes, 0 pruned nodes, max_depth=5\n",
      "[15:14:31] INFO: /Users/travis/build/dmlc/xgboost/src/tree/updater_prune.cc:98: tree pruning end, 52 extra nodes, 0 pruned nodes, max_depth=5\n",
      "[15:14:32] INFO: /Users/travis/build/dmlc/xgboost/src/tree/updater_prune.cc:98: tree pruning end, 54 extra nodes, 0 pruned nodes, max_depth=5\n",
      "[15:14:32] INFO: /Users/travis/build/dmlc/xgboost/src/tree/updater_prune.cc:98: tree pruning end, 48 extra nodes, 0 pruned nodes, max_depth=5\n",
      "[15:14:33] INFO: /Users/travis/build/dmlc/xgboost/src/tree/updater_prune.cc:98: tree pruning end, 56 extra nodes, 0 pruned nodes, max_depth=5\n",
      "[15:14:33] INFO: /Users/travis/build/dmlc/xgboost/src/tree/updater_prune.cc:98: tree pruning end, 50 extra nodes, 0 pruned nodes, max_depth=5\n",
      "[15:14:34] INFO: /Users/travis/build/dmlc/xgboost/src/tree/updater_prune.cc:98: tree pruning end, 44 extra nodes, 0 pruned nodes, max_depth=5\n",
      "[15:14:34] INFO: /Users/travis/build/dmlc/xgboost/src/tree/updater_prune.cc:98: tree pruning end, 50 extra nodes, 0 pruned nodes, max_depth=5\n",
      "[15:14:35] INFO: /Users/travis/build/dmlc/xgboost/src/tree/updater_prune.cc:98: tree pruning end, 42 extra nodes, 0 pruned nodes, max_depth=5\n",
      "[15:14:35] INFO: /Users/travis/build/dmlc/xgboost/src/tree/updater_prune.cc:98: tree pruning end, 56 extra nodes, 0 pruned nodes, max_depth=5\n",
      "[15:14:36] INFO: /Users/travis/build/dmlc/xgboost/src/tree/updater_prune.cc:98: tree pruning end, 56 extra nodes, 0 pruned nodes, max_depth=5\n",
      "[15:14:36] INFO: /Users/travis/build/dmlc/xgboost/src/tree/updater_prune.cc:98: tree pruning end, 52 extra nodes, 0 pruned nodes, max_depth=5\n",
      "[15:14:37] INFO: /Users/travis/build/dmlc/xgboost/src/tree/updater_prune.cc:98: tree pruning end, 48 extra nodes, 0 pruned nodes, max_depth=5\n",
      "[15:14:37] INFO: /Users/travis/build/dmlc/xgboost/src/tree/updater_prune.cc:98: tree pruning end, 46 extra nodes, 0 pruned nodes, max_depth=5\n",
      "[15:14:38] INFO: /Users/travis/build/dmlc/xgboost/src/tree/updater_prune.cc:98: tree pruning end, 44 extra nodes, 0 pruned nodes, max_depth=5\n",
      "[15:14:39] INFO: /Users/travis/build/dmlc/xgboost/src/tree/updater_prune.cc:98: tree pruning end, 44 extra nodes, 0 pruned nodes, max_depth=5\n",
      "[15:14:39] INFO: /Users/travis/build/dmlc/xgboost/src/tree/updater_prune.cc:98: tree pruning end, 52 extra nodes, 0 pruned nodes, max_depth=5\n"
     ]
    },
    {
     "name": "stdout",
     "output_type": "stream",
     "text": [
      "[15:14:40] INFO: /Users/travis/build/dmlc/xgboost/src/tree/updater_prune.cc:98: tree pruning end, 52 extra nodes, 0 pruned nodes, max_depth=5\n",
      "[15:14:40] INFO: /Users/travis/build/dmlc/xgboost/src/tree/updater_prune.cc:98: tree pruning end, 48 extra nodes, 0 pruned nodes, max_depth=5\n",
      "[15:14:41] INFO: /Users/travis/build/dmlc/xgboost/src/tree/updater_prune.cc:98: tree pruning end, 50 extra nodes, 0 pruned nodes, max_depth=5\n",
      "[15:14:41] INFO: /Users/travis/build/dmlc/xgboost/src/tree/updater_prune.cc:98: tree pruning end, 50 extra nodes, 0 pruned nodes, max_depth=5\n",
      "[15:14:42] INFO: /Users/travis/build/dmlc/xgboost/src/tree/updater_prune.cc:98: tree pruning end, 40 extra nodes, 0 pruned nodes, max_depth=5\n",
      "[15:14:42] INFO: /Users/travis/build/dmlc/xgboost/src/tree/updater_prune.cc:98: tree pruning end, 48 extra nodes, 0 pruned nodes, max_depth=5\n",
      "[15:14:43] INFO: /Users/travis/build/dmlc/xgboost/src/tree/updater_prune.cc:98: tree pruning end, 54 extra nodes, 0 pruned nodes, max_depth=5\n",
      "[15:14:43] INFO: /Users/travis/build/dmlc/xgboost/src/tree/updater_prune.cc:98: tree pruning end, 48 extra nodes, 0 pruned nodes, max_depth=5\n",
      "[15:14:44] INFO: /Users/travis/build/dmlc/xgboost/src/tree/updater_prune.cc:98: tree pruning end, 48 extra nodes, 0 pruned nodes, max_depth=5\n",
      "[15:14:44] INFO: /Users/travis/build/dmlc/xgboost/src/tree/updater_prune.cc:98: tree pruning end, 40 extra nodes, 0 pruned nodes, max_depth=5\n",
      "[15:14:45] INFO: /Users/travis/build/dmlc/xgboost/src/tree/updater_prune.cc:98: tree pruning end, 54 extra nodes, 0 pruned nodes, max_depth=5\n",
      "[15:14:45] INFO: /Users/travis/build/dmlc/xgboost/src/tree/updater_prune.cc:98: tree pruning end, 56 extra nodes, 0 pruned nodes, max_depth=5\n",
      "[15:14:46] INFO: /Users/travis/build/dmlc/xgboost/src/tree/updater_prune.cc:98: tree pruning end, 52 extra nodes, 0 pruned nodes, max_depth=5\n",
      "[15:14:46] INFO: /Users/travis/build/dmlc/xgboost/src/tree/updater_prune.cc:98: tree pruning end, 48 extra nodes, 0 pruned nodes, max_depth=5\n",
      "[15:14:47] INFO: /Users/travis/build/dmlc/xgboost/src/tree/updater_prune.cc:98: tree pruning end, 54 extra nodes, 0 pruned nodes, max_depth=5\n",
      "[15:14:47] INFO: /Users/travis/build/dmlc/xgboost/src/tree/updater_prune.cc:98: tree pruning end, 48 extra nodes, 0 pruned nodes, max_depth=5\n",
      "[15:14:48] INFO: /Users/travis/build/dmlc/xgboost/src/tree/updater_prune.cc:98: tree pruning end, 52 extra nodes, 0 pruned nodes, max_depth=5\n",
      "[15:14:48] INFO: /Users/travis/build/dmlc/xgboost/src/tree/updater_prune.cc:98: tree pruning end, 44 extra nodes, 0 pruned nodes, max_depth=5\n",
      "[15:14:49] INFO: /Users/travis/build/dmlc/xgboost/src/tree/updater_prune.cc:98: tree pruning end, 36 extra nodes, 0 pruned nodes, max_depth=5\n",
      "[15:14:49] INFO: /Users/travis/build/dmlc/xgboost/src/tree/updater_prune.cc:98: tree pruning end, 54 extra nodes, 0 pruned nodes, max_depth=5\n",
      "[15:14:50] INFO: /Users/travis/build/dmlc/xgboost/src/tree/updater_prune.cc:98: tree pruning end, 56 extra nodes, 0 pruned nodes, max_depth=5\n",
      "[15:14:50] INFO: /Users/travis/build/dmlc/xgboost/src/tree/updater_prune.cc:98: tree pruning end, 46 extra nodes, 0 pruned nodes, max_depth=5\n",
      "[15:14:51] INFO: /Users/travis/build/dmlc/xgboost/src/tree/updater_prune.cc:98: tree pruning end, 56 extra nodes, 0 pruned nodes, max_depth=5\n",
      "[15:14:51] INFO: /Users/travis/build/dmlc/xgboost/src/tree/updater_prune.cc:98: tree pruning end, 40 extra nodes, 0 pruned nodes, max_depth=5\n",
      "[15:14:52] INFO: /Users/travis/build/dmlc/xgboost/src/tree/updater_prune.cc:98: tree pruning end, 38 extra nodes, 0 pruned nodes, max_depth=5\n",
      "[15:14:52] INFO: /Users/travis/build/dmlc/xgboost/src/tree/updater_prune.cc:98: tree pruning end, 42 extra nodes, 0 pruned nodes, max_depth=5\n",
      "[15:14:53] INFO: /Users/travis/build/dmlc/xgboost/src/tree/updater_prune.cc:98: tree pruning end, 38 extra nodes, 0 pruned nodes, max_depth=5\n",
      "[15:14:53] INFO: /Users/travis/build/dmlc/xgboost/src/tree/updater_prune.cc:98: tree pruning end, 40 extra nodes, 0 pruned nodes, max_depth=5\n",
      "[15:14:54] INFO: /Users/travis/build/dmlc/xgboost/src/tree/updater_prune.cc:98: tree pruning end, 32 extra nodes, 0 pruned nodes, max_depth=5\n",
      "[15:14:54] INFO: /Users/travis/build/dmlc/xgboost/src/tree/updater_prune.cc:98: tree pruning end, 46 extra nodes, 0 pruned nodes, max_depth=5\n",
      "[15:14:55] INFO: /Users/travis/build/dmlc/xgboost/src/tree/updater_prune.cc:98: tree pruning end, 40 extra nodes, 0 pruned nodes, max_depth=5\n",
      "[15:14:55] INFO: /Users/travis/build/dmlc/xgboost/src/tree/updater_prune.cc:98: tree pruning end, 58 extra nodes, 0 pruned nodes, max_depth=5\n",
      "[15:14:56] INFO: /Users/travis/build/dmlc/xgboost/src/tree/updater_prune.cc:98: tree pruning end, 34 extra nodes, 0 pruned nodes, max_depth=5\n",
      "[15:14:56] INFO: /Users/travis/build/dmlc/xgboost/src/tree/updater_prune.cc:98: tree pruning end, 42 extra nodes, 0 pruned nodes, max_depth=5\n",
      "[15:14:57] INFO: /Users/travis/build/dmlc/xgboost/src/tree/updater_prune.cc:98: tree pruning end, 52 extra nodes, 0 pruned nodes, max_depth=5\n",
      "[15:14:57] INFO: /Users/travis/build/dmlc/xgboost/src/tree/updater_prune.cc:98: tree pruning end, 52 extra nodes, 0 pruned nodes, max_depth=5\n",
      "[15:14:58] INFO: /Users/travis/build/dmlc/xgboost/src/tree/updater_prune.cc:98: tree pruning end, 34 extra nodes, 0 pruned nodes, max_depth=5\n",
      "[15:14:58] INFO: /Users/travis/build/dmlc/xgboost/src/tree/updater_prune.cc:98: tree pruning end, 44 extra nodes, 0 pruned nodes, max_depth=5\n",
      "[15:14:59] INFO: /Users/travis/build/dmlc/xgboost/src/tree/updater_prune.cc:98: tree pruning end, 38 extra nodes, 0 pruned nodes, max_depth=5\n",
      "[15:14:59] INFO: /Users/travis/build/dmlc/xgboost/src/tree/updater_prune.cc:98: tree pruning end, 46 extra nodes, 0 pruned nodes, max_depth=5\n",
      "[15:15:00] INFO: /Users/travis/build/dmlc/xgboost/src/tree/updater_prune.cc:98: tree pruning end, 46 extra nodes, 0 pruned nodes, max_depth=5\n",
      "[15:15:01] INFO: /Users/travis/build/dmlc/xgboost/src/tree/updater_prune.cc:98: tree pruning end, 52 extra nodes, 0 pruned nodes, max_depth=5\n",
      "[15:15:01] INFO: /Users/travis/build/dmlc/xgboost/src/tree/updater_prune.cc:98: tree pruning end, 44 extra nodes, 0 pruned nodes, max_depth=5\n",
      "[15:15:02] INFO: /Users/travis/build/dmlc/xgboost/src/tree/updater_prune.cc:98: tree pruning end, 40 extra nodes, 0 pruned nodes, max_depth=5\n",
      "[15:15:02] INFO: /Users/travis/build/dmlc/xgboost/src/tree/updater_prune.cc:98: tree pruning end, 34 extra nodes, 0 pruned nodes, max_depth=5\n",
      "[15:15:03] INFO: /Users/travis/build/dmlc/xgboost/src/tree/updater_prune.cc:98: tree pruning end, 46 extra nodes, 0 pruned nodes, max_depth=5\n",
      "[15:15:03] INFO: /Users/travis/build/dmlc/xgboost/src/tree/updater_prune.cc:98: tree pruning end, 42 extra nodes, 0 pruned nodes, max_depth=5\n",
      "[15:15:04] INFO: /Users/travis/build/dmlc/xgboost/src/tree/updater_prune.cc:98: tree pruning end, 38 extra nodes, 0 pruned nodes, max_depth=5\n",
      "[15:15:04] INFO: /Users/travis/build/dmlc/xgboost/src/tree/updater_prune.cc:98: tree pruning end, 42 extra nodes, 0 pruned nodes, max_depth=5\n",
      "[15:15:05] INFO: /Users/travis/build/dmlc/xgboost/src/tree/updater_prune.cc:98: tree pruning end, 54 extra nodes, 0 pruned nodes, max_depth=5\n",
      "[15:15:05] INFO: /Users/travis/build/dmlc/xgboost/src/tree/updater_prune.cc:98: tree pruning end, 54 extra nodes, 0 pruned nodes, max_depth=5\n",
      "[15:15:06] INFO: /Users/travis/build/dmlc/xgboost/src/tree/updater_prune.cc:98: tree pruning end, 52 extra nodes, 0 pruned nodes, max_depth=5\n",
      "[15:15:06] INFO: /Users/travis/build/dmlc/xgboost/src/tree/updater_prune.cc:98: tree pruning end, 32 extra nodes, 0 pruned nodes, max_depth=5\n",
      "[15:15:07] INFO: /Users/travis/build/dmlc/xgboost/src/tree/updater_prune.cc:98: tree pruning end, 48 extra nodes, 0 pruned nodes, max_depth=5\n",
      "[15:15:07] INFO: /Users/travis/build/dmlc/xgboost/src/tree/updater_prune.cc:98: tree pruning end, 46 extra nodes, 0 pruned nodes, max_depth=5\n",
      "[15:15:08] INFO: /Users/travis/build/dmlc/xgboost/src/tree/updater_prune.cc:98: tree pruning end, 50 extra nodes, 0 pruned nodes, max_depth=5\n",
      "[15:15:08] INFO: /Users/travis/build/dmlc/xgboost/src/tree/updater_prune.cc:98: tree pruning end, 50 extra nodes, 0 pruned nodes, max_depth=5\n",
      "[15:15:09] INFO: /Users/travis/build/dmlc/xgboost/src/tree/updater_prune.cc:98: tree pruning end, 34 extra nodes, 0 pruned nodes, max_depth=5\n"
     ]
    },
    {
     "name": "stdout",
     "output_type": "stream",
     "text": [
      "[15:15:09] INFO: /Users/travis/build/dmlc/xgboost/src/tree/updater_prune.cc:98: tree pruning end, 54 extra nodes, 0 pruned nodes, max_depth=5\n",
      "[15:15:10] INFO: /Users/travis/build/dmlc/xgboost/src/tree/updater_prune.cc:98: tree pruning end, 44 extra nodes, 0 pruned nodes, max_depth=5\n",
      "[15:15:10] INFO: /Users/travis/build/dmlc/xgboost/src/tree/updater_prune.cc:98: tree pruning end, 28 extra nodes, 0 pruned nodes, max_depth=5\n",
      "[15:15:11] INFO: /Users/travis/build/dmlc/xgboost/src/tree/updater_prune.cc:98: tree pruning end, 50 extra nodes, 0 pruned nodes, max_depth=5\n",
      "[15:15:11] INFO: /Users/travis/build/dmlc/xgboost/src/tree/updater_prune.cc:98: tree pruning end, 48 extra nodes, 0 pruned nodes, max_depth=5\n",
      "[15:15:12] INFO: /Users/travis/build/dmlc/xgboost/src/tree/updater_prune.cc:98: tree pruning end, 36 extra nodes, 0 pruned nodes, max_depth=5\n",
      "[15:15:12] INFO: /Users/travis/build/dmlc/xgboost/src/tree/updater_prune.cc:98: tree pruning end, 54 extra nodes, 0 pruned nodes, max_depth=5\n",
      "[15:15:13] INFO: /Users/travis/build/dmlc/xgboost/src/tree/updater_prune.cc:98: tree pruning end, 56 extra nodes, 0 pruned nodes, max_depth=5\n",
      "[15:15:14] INFO: /Users/travis/build/dmlc/xgboost/src/tree/updater_prune.cc:98: tree pruning end, 50 extra nodes, 0 pruned nodes, max_depth=5\n",
      "[15:15:14] INFO: /Users/travis/build/dmlc/xgboost/src/tree/updater_prune.cc:98: tree pruning end, 48 extra nodes, 0 pruned nodes, max_depth=5\n",
      "[15:15:15] INFO: /Users/travis/build/dmlc/xgboost/src/tree/updater_prune.cc:98: tree pruning end, 42 extra nodes, 0 pruned nodes, max_depth=5\n",
      "[15:15:15] INFO: /Users/travis/build/dmlc/xgboost/src/tree/updater_prune.cc:98: tree pruning end, 46 extra nodes, 0 pruned nodes, max_depth=5\n",
      "[15:15:16] INFO: /Users/travis/build/dmlc/xgboost/src/tree/updater_prune.cc:98: tree pruning end, 52 extra nodes, 0 pruned nodes, max_depth=5\n",
      "[15:15:16] INFO: /Users/travis/build/dmlc/xgboost/src/tree/updater_prune.cc:98: tree pruning end, 44 extra nodes, 0 pruned nodes, max_depth=5\n",
      "[15:15:17] INFO: /Users/travis/build/dmlc/xgboost/src/tree/updater_prune.cc:98: tree pruning end, 34 extra nodes, 0 pruned nodes, max_depth=5\n",
      "[15:15:17] INFO: /Users/travis/build/dmlc/xgboost/src/tree/updater_prune.cc:98: tree pruning end, 30 extra nodes, 0 pruned nodes, max_depth=5\n",
      "[15:15:19] INFO: /Users/travis/build/dmlc/xgboost/src/tree/updater_prune.cc:98: tree pruning end, 40 extra nodes, 0 pruned nodes, max_depth=5\n",
      "[15:15:19] INFO: /Users/travis/build/dmlc/xgboost/src/tree/updater_prune.cc:98: tree pruning end, 48 extra nodes, 0 pruned nodes, max_depth=5\n",
      "[15:15:20] INFO: /Users/travis/build/dmlc/xgboost/src/tree/updater_prune.cc:98: tree pruning end, 50 extra nodes, 0 pruned nodes, max_depth=5\n",
      "[15:15:20] INFO: /Users/travis/build/dmlc/xgboost/src/tree/updater_prune.cc:98: tree pruning end, 54 extra nodes, 0 pruned nodes, max_depth=5\n",
      "[15:15:21] INFO: /Users/travis/build/dmlc/xgboost/src/tree/updater_prune.cc:98: tree pruning end, 50 extra nodes, 0 pruned nodes, max_depth=5\n",
      "[15:15:22] INFO: /Users/travis/build/dmlc/xgboost/src/tree/updater_prune.cc:98: tree pruning end, 56 extra nodes, 0 pruned nodes, max_depth=5\n",
      "[15:15:22] INFO: /Users/travis/build/dmlc/xgboost/src/tree/updater_prune.cc:98: tree pruning end, 32 extra nodes, 0 pruned nodes, max_depth=5\n",
      "[15:15:23] INFO: /Users/travis/build/dmlc/xgboost/src/tree/updater_prune.cc:98: tree pruning end, 50 extra nodes, 0 pruned nodes, max_depth=5\n",
      "[15:15:23] INFO: /Users/travis/build/dmlc/xgboost/src/tree/updater_prune.cc:98: tree pruning end, 48 extra nodes, 0 pruned nodes, max_depth=5\n",
      "[15:15:24] INFO: /Users/travis/build/dmlc/xgboost/src/tree/updater_prune.cc:98: tree pruning end, 48 extra nodes, 0 pruned nodes, max_depth=5\n",
      "[15:15:24] INFO: /Users/travis/build/dmlc/xgboost/src/tree/updater_prune.cc:98: tree pruning end, 56 extra nodes, 0 pruned nodes, max_depth=5\n",
      "[15:15:25] INFO: /Users/travis/build/dmlc/xgboost/src/tree/updater_prune.cc:98: tree pruning end, 36 extra nodes, 0 pruned nodes, max_depth=5\n",
      "[15:15:25] INFO: /Users/travis/build/dmlc/xgboost/src/tree/updater_prune.cc:98: tree pruning end, 46 extra nodes, 0 pruned nodes, max_depth=5\n",
      "[15:15:26] INFO: /Users/travis/build/dmlc/xgboost/src/tree/updater_prune.cc:98: tree pruning end, 40 extra nodes, 0 pruned nodes, max_depth=5\n",
      "[15:15:26] INFO: /Users/travis/build/dmlc/xgboost/src/tree/updater_prune.cc:98: tree pruning end, 50 extra nodes, 0 pruned nodes, max_depth=5\n",
      "[15:15:27] INFO: /Users/travis/build/dmlc/xgboost/src/tree/updater_prune.cc:98: tree pruning end, 38 extra nodes, 0 pruned nodes, max_depth=5\n",
      "[15:15:28] INFO: /Users/travis/build/dmlc/xgboost/src/tree/updater_prune.cc:98: tree pruning end, 44 extra nodes, 0 pruned nodes, max_depth=5\n",
      "[15:15:28] INFO: /Users/travis/build/dmlc/xgboost/src/tree/updater_prune.cc:98: tree pruning end, 48 extra nodes, 0 pruned nodes, max_depth=5\n",
      "[15:15:29] INFO: /Users/travis/build/dmlc/xgboost/src/tree/updater_prune.cc:98: tree pruning end, 56 extra nodes, 0 pruned nodes, max_depth=5\n",
      "[15:15:29] INFO: /Users/travis/build/dmlc/xgboost/src/tree/updater_prune.cc:98: tree pruning end, 48 extra nodes, 0 pruned nodes, max_depth=5\n",
      "[15:15:30] INFO: /Users/travis/build/dmlc/xgboost/src/tree/updater_prune.cc:98: tree pruning end, 42 extra nodes, 0 pruned nodes, max_depth=5\n",
      "[15:15:30] INFO: /Users/travis/build/dmlc/xgboost/src/tree/updater_prune.cc:98: tree pruning end, 42 extra nodes, 0 pruned nodes, max_depth=5\n",
      "[15:15:31] INFO: /Users/travis/build/dmlc/xgboost/src/tree/updater_prune.cc:98: tree pruning end, 52 extra nodes, 0 pruned nodes, max_depth=5\n",
      "[15:15:31] INFO: /Users/travis/build/dmlc/xgboost/src/tree/updater_prune.cc:98: tree pruning end, 46 extra nodes, 0 pruned nodes, max_depth=5\n",
      "[15:15:32] INFO: /Users/travis/build/dmlc/xgboost/src/tree/updater_prune.cc:98: tree pruning end, 38 extra nodes, 0 pruned nodes, max_depth=5\n",
      "[15:15:32] INFO: /Users/travis/build/dmlc/xgboost/src/tree/updater_prune.cc:98: tree pruning end, 56 extra nodes, 0 pruned nodes, max_depth=5\n",
      "[15:15:33] INFO: /Users/travis/build/dmlc/xgboost/src/tree/updater_prune.cc:98: tree pruning end, 40 extra nodes, 0 pruned nodes, max_depth=5\n",
      "[15:15:33] INFO: /Users/travis/build/dmlc/xgboost/src/tree/updater_prune.cc:98: tree pruning end, 48 extra nodes, 0 pruned nodes, max_depth=5\n",
      "[15:15:34] INFO: /Users/travis/build/dmlc/xgboost/src/tree/updater_prune.cc:98: tree pruning end, 44 extra nodes, 0 pruned nodes, max_depth=5\n",
      "[15:15:34] INFO: /Users/travis/build/dmlc/xgboost/src/tree/updater_prune.cc:98: tree pruning end, 42 extra nodes, 0 pruned nodes, max_depth=5\n",
      "[15:15:35] INFO: /Users/travis/build/dmlc/xgboost/src/tree/updater_prune.cc:98: tree pruning end, 48 extra nodes, 0 pruned nodes, max_depth=5\n",
      "[15:15:35] INFO: /Users/travis/build/dmlc/xgboost/src/tree/updater_prune.cc:98: tree pruning end, 58 extra nodes, 0 pruned nodes, max_depth=5\n",
      "[15:15:36] INFO: /Users/travis/build/dmlc/xgboost/src/tree/updater_prune.cc:98: tree pruning end, 46 extra nodes, 0 pruned nodes, max_depth=5\n",
      "[15:15:36] INFO: /Users/travis/build/dmlc/xgboost/src/tree/updater_prune.cc:98: tree pruning end, 40 extra nodes, 0 pruned nodes, max_depth=5\n",
      "[15:15:37] INFO: /Users/travis/build/dmlc/xgboost/src/tree/updater_prune.cc:98: tree pruning end, 36 extra nodes, 0 pruned nodes, max_depth=5\n",
      "[15:15:37] INFO: /Users/travis/build/dmlc/xgboost/src/tree/updater_prune.cc:98: tree pruning end, 46 extra nodes, 0 pruned nodes, max_depth=5\n",
      "[15:15:38] INFO: /Users/travis/build/dmlc/xgboost/src/tree/updater_prune.cc:98: tree pruning end, 58 extra nodes, 0 pruned nodes, max_depth=5\n",
      "[15:15:38] INFO: /Users/travis/build/dmlc/xgboost/src/tree/updater_prune.cc:98: tree pruning end, 54 extra nodes, 0 pruned nodes, max_depth=5\n",
      "[15:15:39] INFO: /Users/travis/build/dmlc/xgboost/src/tree/updater_prune.cc:98: tree pruning end, 54 extra nodes, 0 pruned nodes, max_depth=5\n",
      "[15:15:39] INFO: /Users/travis/build/dmlc/xgboost/src/tree/updater_prune.cc:98: tree pruning end, 44 extra nodes, 0 pruned nodes, max_depth=5\n",
      "[15:15:40] INFO: /Users/travis/build/dmlc/xgboost/src/tree/updater_prune.cc:98: tree pruning end, 52 extra nodes, 0 pruned nodes, max_depth=5\n",
      "[15:15:40] INFO: /Users/travis/build/dmlc/xgboost/src/tree/updater_prune.cc:98: tree pruning end, 32 extra nodes, 0 pruned nodes, max_depth=5\n"
     ]
    },
    {
     "name": "stdout",
     "output_type": "stream",
     "text": [
      "[15:15:41] INFO: /Users/travis/build/dmlc/xgboost/src/tree/updater_prune.cc:98: tree pruning end, 54 extra nodes, 0 pruned nodes, max_depth=5\n",
      "[15:15:41] INFO: /Users/travis/build/dmlc/xgboost/src/tree/updater_prune.cc:98: tree pruning end, 18 extra nodes, 0 pruned nodes, max_depth=5\n",
      "[15:15:42] INFO: /Users/travis/build/dmlc/xgboost/src/tree/updater_prune.cc:98: tree pruning end, 46 extra nodes, 0 pruned nodes, max_depth=5\n",
      "[15:15:42] INFO: /Users/travis/build/dmlc/xgboost/src/tree/updater_prune.cc:98: tree pruning end, 48 extra nodes, 0 pruned nodes, max_depth=5\n",
      "[15:15:43] INFO: /Users/travis/build/dmlc/xgboost/src/tree/updater_prune.cc:98: tree pruning end, 52 extra nodes, 0 pruned nodes, max_depth=5\n",
      "[15:15:43] INFO: /Users/travis/build/dmlc/xgboost/src/tree/updater_prune.cc:98: tree pruning end, 54 extra nodes, 0 pruned nodes, max_depth=5\n",
      "[15:15:44] INFO: /Users/travis/build/dmlc/xgboost/src/tree/updater_prune.cc:98: tree pruning end, 44 extra nodes, 0 pruned nodes, max_depth=5\n",
      "[15:15:44] INFO: /Users/travis/build/dmlc/xgboost/src/tree/updater_prune.cc:98: tree pruning end, 56 extra nodes, 0 pruned nodes, max_depth=5\n",
      "[15:15:45] INFO: /Users/travis/build/dmlc/xgboost/src/tree/updater_prune.cc:98: tree pruning end, 50 extra nodes, 0 pruned nodes, max_depth=5\n",
      "[15:15:45] INFO: /Users/travis/build/dmlc/xgboost/src/tree/updater_prune.cc:98: tree pruning end, 52 extra nodes, 0 pruned nodes, max_depth=5\n",
      "[15:15:46] INFO: /Users/travis/build/dmlc/xgboost/src/tree/updater_prune.cc:98: tree pruning end, 50 extra nodes, 0 pruned nodes, max_depth=5\n",
      "[15:15:46] INFO: /Users/travis/build/dmlc/xgboost/src/tree/updater_prune.cc:98: tree pruning end, 46 extra nodes, 0 pruned nodes, max_depth=5\n",
      "[15:15:47] INFO: /Users/travis/build/dmlc/xgboost/src/tree/updater_prune.cc:98: tree pruning end, 58 extra nodes, 0 pruned nodes, max_depth=5\n",
      "[15:15:47] INFO: /Users/travis/build/dmlc/xgboost/src/tree/updater_prune.cc:98: tree pruning end, 34 extra nodes, 0 pruned nodes, max_depth=5\n",
      "[15:15:48] INFO: /Users/travis/build/dmlc/xgboost/src/tree/updater_prune.cc:98: tree pruning end, 50 extra nodes, 0 pruned nodes, max_depth=5\n",
      "[15:15:48] INFO: /Users/travis/build/dmlc/xgboost/src/tree/updater_prune.cc:98: tree pruning end, 38 extra nodes, 0 pruned nodes, max_depth=5\n",
      "[15:15:49] INFO: /Users/travis/build/dmlc/xgboost/src/tree/updater_prune.cc:98: tree pruning end, 36 extra nodes, 0 pruned nodes, max_depth=5\n",
      "[15:15:49] INFO: /Users/travis/build/dmlc/xgboost/src/tree/updater_prune.cc:98: tree pruning end, 38 extra nodes, 0 pruned nodes, max_depth=5\n",
      "[15:15:50] INFO: /Users/travis/build/dmlc/xgboost/src/tree/updater_prune.cc:98: tree pruning end, 50 extra nodes, 0 pruned nodes, max_depth=5\n",
      "[15:15:50] INFO: /Users/travis/build/dmlc/xgboost/src/tree/updater_prune.cc:98: tree pruning end, 44 extra nodes, 0 pruned nodes, max_depth=5\n",
      "[15:15:51] INFO: /Users/travis/build/dmlc/xgboost/src/tree/updater_prune.cc:98: tree pruning end, 50 extra nodes, 0 pruned nodes, max_depth=5\n",
      "[15:15:51] INFO: /Users/travis/build/dmlc/xgboost/src/tree/updater_prune.cc:98: tree pruning end, 44 extra nodes, 0 pruned nodes, max_depth=5\n",
      "[15:15:52] INFO: /Users/travis/build/dmlc/xgboost/src/tree/updater_prune.cc:98: tree pruning end, 62 extra nodes, 0 pruned nodes, max_depth=5\n",
      "[15:15:52] INFO: /Users/travis/build/dmlc/xgboost/src/tree/updater_prune.cc:98: tree pruning end, 48 extra nodes, 0 pruned nodes, max_depth=5\n",
      "[15:15:53] INFO: /Users/travis/build/dmlc/xgboost/src/tree/updater_prune.cc:98: tree pruning end, 24 extra nodes, 0 pruned nodes, max_depth=5\n",
      "[15:15:53] INFO: /Users/travis/build/dmlc/xgboost/src/tree/updater_prune.cc:98: tree pruning end, 46 extra nodes, 0 pruned nodes, max_depth=5\n",
      "[15:15:54] INFO: /Users/travis/build/dmlc/xgboost/src/tree/updater_prune.cc:98: tree pruning end, 32 extra nodes, 0 pruned nodes, max_depth=5\n",
      "[15:15:54] INFO: /Users/travis/build/dmlc/xgboost/src/tree/updater_prune.cc:98: tree pruning end, 40 extra nodes, 0 pruned nodes, max_depth=5\n",
      "[15:15:55] INFO: /Users/travis/build/dmlc/xgboost/src/tree/updater_prune.cc:98: tree pruning end, 44 extra nodes, 0 pruned nodes, max_depth=5\n",
      "[15:15:55] INFO: /Users/travis/build/dmlc/xgboost/src/tree/updater_prune.cc:98: tree pruning end, 52 extra nodes, 0 pruned nodes, max_depth=5\n",
      "[15:15:56] INFO: /Users/travis/build/dmlc/xgboost/src/tree/updater_prune.cc:98: tree pruning end, 60 extra nodes, 0 pruned nodes, max_depth=5\n",
      "[15:15:56] INFO: /Users/travis/build/dmlc/xgboost/src/tree/updater_prune.cc:98: tree pruning end, 42 extra nodes, 0 pruned nodes, max_depth=5\n",
      "[15:15:57] INFO: /Users/travis/build/dmlc/xgboost/src/tree/updater_prune.cc:98: tree pruning end, 52 extra nodes, 0 pruned nodes, max_depth=5\n",
      "[15:15:57] INFO: /Users/travis/build/dmlc/xgboost/src/tree/updater_prune.cc:98: tree pruning end, 26 extra nodes, 0 pruned nodes, max_depth=5\n",
      "[15:15:58] INFO: /Users/travis/build/dmlc/xgboost/src/tree/updater_prune.cc:98: tree pruning end, 46 extra nodes, 0 pruned nodes, max_depth=5\n",
      "[15:15:58] INFO: /Users/travis/build/dmlc/xgboost/src/tree/updater_prune.cc:98: tree pruning end, 48 extra nodes, 0 pruned nodes, max_depth=5\n",
      "[15:15:59] INFO: /Users/travis/build/dmlc/xgboost/src/tree/updater_prune.cc:98: tree pruning end, 38 extra nodes, 0 pruned nodes, max_depth=5\n",
      "[15:15:59] INFO: /Users/travis/build/dmlc/xgboost/src/tree/updater_prune.cc:98: tree pruning end, 56 extra nodes, 0 pruned nodes, max_depth=5\n",
      "[15:16:00] INFO: /Users/travis/build/dmlc/xgboost/src/tree/updater_prune.cc:98: tree pruning end, 30 extra nodes, 0 pruned nodes, max_depth=5\n",
      "[15:16:00] INFO: /Users/travis/build/dmlc/xgboost/src/tree/updater_prune.cc:98: tree pruning end, 28 extra nodes, 0 pruned nodes, max_depth=5\n",
      "[15:16:01] INFO: /Users/travis/build/dmlc/xgboost/src/tree/updater_prune.cc:98: tree pruning end, 46 extra nodes, 0 pruned nodes, max_depth=5\n",
      "[15:16:01] INFO: /Users/travis/build/dmlc/xgboost/src/tree/updater_prune.cc:98: tree pruning end, 48 extra nodes, 0 pruned nodes, max_depth=5\n",
      "[15:16:02] INFO: /Users/travis/build/dmlc/xgboost/src/tree/updater_prune.cc:98: tree pruning end, 24 extra nodes, 0 pruned nodes, max_depth=5\n",
      "[15:16:02] INFO: /Users/travis/build/dmlc/xgboost/src/tree/updater_prune.cc:98: tree pruning end, 48 extra nodes, 0 pruned nodes, max_depth=5\n",
      "[15:16:03] INFO: /Users/travis/build/dmlc/xgboost/src/tree/updater_prune.cc:98: tree pruning end, 38 extra nodes, 0 pruned nodes, max_depth=5\n",
      "[15:16:03] INFO: /Users/travis/build/dmlc/xgboost/src/tree/updater_prune.cc:98: tree pruning end, 32 extra nodes, 0 pruned nodes, max_depth=5\n",
      "[15:16:04] INFO: /Users/travis/build/dmlc/xgboost/src/tree/updater_prune.cc:98: tree pruning end, 24 extra nodes, 0 pruned nodes, max_depth=5\n",
      "[15:16:04] INFO: /Users/travis/build/dmlc/xgboost/src/tree/updater_prune.cc:98: tree pruning end, 40 extra nodes, 0 pruned nodes, max_depth=5\n",
      "[15:16:04] INFO: /Users/travis/build/dmlc/xgboost/src/tree/updater_prune.cc:98: tree pruning end, 48 extra nodes, 0 pruned nodes, max_depth=5\n",
      "[15:16:05] INFO: /Users/travis/build/dmlc/xgboost/src/tree/updater_prune.cc:98: tree pruning end, 42 extra nodes, 0 pruned nodes, max_depth=5\n",
      "[15:16:05] INFO: /Users/travis/build/dmlc/xgboost/src/tree/updater_prune.cc:98: tree pruning end, 52 extra nodes, 0 pruned nodes, max_depth=5\n",
      "[15:16:06] INFO: /Users/travis/build/dmlc/xgboost/src/tree/updater_prune.cc:98: tree pruning end, 30 extra nodes, 0 pruned nodes, max_depth=5\n",
      "[15:16:07] INFO: /Users/travis/build/dmlc/xgboost/src/tree/updater_prune.cc:98: tree pruning end, 54 extra nodes, 0 pruned nodes, max_depth=5\n",
      "[15:16:07] INFO: /Users/travis/build/dmlc/xgboost/src/tree/updater_prune.cc:98: tree pruning end, 36 extra nodes, 0 pruned nodes, max_depth=5\n",
      "[15:16:08] INFO: /Users/travis/build/dmlc/xgboost/src/tree/updater_prune.cc:98: tree pruning end, 52 extra nodes, 0 pruned nodes, max_depth=5\n",
      "[15:16:08] INFO: /Users/travis/build/dmlc/xgboost/src/tree/updater_prune.cc:98: tree pruning end, 20 extra nodes, 0 pruned nodes, max_depth=5\n",
      "[15:16:09] INFO: /Users/travis/build/dmlc/xgboost/src/tree/updater_prune.cc:98: tree pruning end, 58 extra nodes, 0 pruned nodes, max_depth=5\n",
      "[15:16:09] INFO: /Users/travis/build/dmlc/xgboost/src/tree/updater_prune.cc:98: tree pruning end, 54 extra nodes, 0 pruned nodes, max_depth=5\n"
     ]
    },
    {
     "name": "stdout",
     "output_type": "stream",
     "text": [
      "[15:16:10] INFO: /Users/travis/build/dmlc/xgboost/src/tree/updater_prune.cc:98: tree pruning end, 48 extra nodes, 0 pruned nodes, max_depth=5\n",
      "[15:16:11] INFO: /Users/travis/build/dmlc/xgboost/src/tree/updater_prune.cc:98: tree pruning end, 42 extra nodes, 0 pruned nodes, max_depth=5\n",
      "[15:16:11] INFO: /Users/travis/build/dmlc/xgboost/src/tree/updater_prune.cc:98: tree pruning end, 42 extra nodes, 0 pruned nodes, max_depth=5\n",
      "[15:16:12] INFO: /Users/travis/build/dmlc/xgboost/src/tree/updater_prune.cc:98: tree pruning end, 20 extra nodes, 0 pruned nodes, max_depth=5\n",
      "[15:16:12] INFO: /Users/travis/build/dmlc/xgboost/src/tree/updater_prune.cc:98: tree pruning end, 44 extra nodes, 0 pruned nodes, max_depth=5\n",
      "[15:16:13] INFO: /Users/travis/build/dmlc/xgboost/src/tree/updater_prune.cc:98: tree pruning end, 48 extra nodes, 0 pruned nodes, max_depth=5\n",
      "[15:16:13] INFO: /Users/travis/build/dmlc/xgboost/src/tree/updater_prune.cc:98: tree pruning end, 36 extra nodes, 0 pruned nodes, max_depth=5\n",
      "[15:16:14] INFO: /Users/travis/build/dmlc/xgboost/src/tree/updater_prune.cc:98: tree pruning end, 36 extra nodes, 0 pruned nodes, max_depth=5\n",
      "[15:16:14] INFO: /Users/travis/build/dmlc/xgboost/src/tree/updater_prune.cc:98: tree pruning end, 40 extra nodes, 0 pruned nodes, max_depth=5\n",
      "[15:16:15] INFO: /Users/travis/build/dmlc/xgboost/src/tree/updater_prune.cc:98: tree pruning end, 48 extra nodes, 0 pruned nodes, max_depth=5\n",
      "[15:16:15] INFO: /Users/travis/build/dmlc/xgboost/src/tree/updater_prune.cc:98: tree pruning end, 26 extra nodes, 0 pruned nodes, max_depth=5\n",
      "[15:16:16] INFO: /Users/travis/build/dmlc/xgboost/src/tree/updater_prune.cc:98: tree pruning end, 24 extra nodes, 0 pruned nodes, max_depth=5\n",
      "[15:16:16] INFO: /Users/travis/build/dmlc/xgboost/src/tree/updater_prune.cc:98: tree pruning end, 50 extra nodes, 0 pruned nodes, max_depth=5\n",
      "[15:16:17] INFO: /Users/travis/build/dmlc/xgboost/src/tree/updater_prune.cc:98: tree pruning end, 46 extra nodes, 0 pruned nodes, max_depth=5\n",
      "[15:16:17] INFO: /Users/travis/build/dmlc/xgboost/src/tree/updater_prune.cc:98: tree pruning end, 46 extra nodes, 0 pruned nodes, max_depth=5\n",
      "[15:16:18] INFO: /Users/travis/build/dmlc/xgboost/src/tree/updater_prune.cc:98: tree pruning end, 62 extra nodes, 0 pruned nodes, max_depth=5\n",
      "[15:16:19] INFO: /Users/travis/build/dmlc/xgboost/src/tree/updater_prune.cc:98: tree pruning end, 32 extra nodes, 0 pruned nodes, max_depth=5\n",
      "[15:16:19] INFO: /Users/travis/build/dmlc/xgboost/src/tree/updater_prune.cc:98: tree pruning end, 30 extra nodes, 0 pruned nodes, max_depth=5\n",
      "[15:16:20] INFO: /Users/travis/build/dmlc/xgboost/src/tree/updater_prune.cc:98: tree pruning end, 34 extra nodes, 0 pruned nodes, max_depth=5\n",
      "[15:16:20] INFO: /Users/travis/build/dmlc/xgboost/src/tree/updater_prune.cc:98: tree pruning end, 56 extra nodes, 0 pruned nodes, max_depth=5\n",
      "[15:16:21] INFO: /Users/travis/build/dmlc/xgboost/src/tree/updater_prune.cc:98: tree pruning end, 48 extra nodes, 0 pruned nodes, max_depth=5\n",
      "[15:16:21] INFO: /Users/travis/build/dmlc/xgboost/src/tree/updater_prune.cc:98: tree pruning end, 56 extra nodes, 0 pruned nodes, max_depth=5\n",
      "[15:16:22] INFO: /Users/travis/build/dmlc/xgboost/src/tree/updater_prune.cc:98: tree pruning end, 42 extra nodes, 0 pruned nodes, max_depth=5\n",
      "[15:16:22] INFO: /Users/travis/build/dmlc/xgboost/src/tree/updater_prune.cc:98: tree pruning end, 48 extra nodes, 0 pruned nodes, max_depth=5\n",
      "[15:16:23] INFO: /Users/travis/build/dmlc/xgboost/src/tree/updater_prune.cc:98: tree pruning end, 48 extra nodes, 0 pruned nodes, max_depth=5\n",
      "[15:16:23] INFO: /Users/travis/build/dmlc/xgboost/src/tree/updater_prune.cc:98: tree pruning end, 22 extra nodes, 0 pruned nodes, max_depth=5\n",
      "[15:16:24] INFO: /Users/travis/build/dmlc/xgboost/src/tree/updater_prune.cc:98: tree pruning end, 28 extra nodes, 0 pruned nodes, max_depth=5\n",
      "[15:16:24] INFO: /Users/travis/build/dmlc/xgboost/src/tree/updater_prune.cc:98: tree pruning end, 54 extra nodes, 0 pruned nodes, max_depth=5\n",
      "[15:16:25] INFO: /Users/travis/build/dmlc/xgboost/src/tree/updater_prune.cc:98: tree pruning end, 52 extra nodes, 0 pruned nodes, max_depth=5\n",
      "[15:16:25] INFO: /Users/travis/build/dmlc/xgboost/src/tree/updater_prune.cc:98: tree pruning end, 38 extra nodes, 0 pruned nodes, max_depth=5\n",
      "[15:16:26] INFO: /Users/travis/build/dmlc/xgboost/src/tree/updater_prune.cc:98: tree pruning end, 52 extra nodes, 0 pruned nodes, max_depth=5\n",
      "[15:16:27] INFO: /Users/travis/build/dmlc/xgboost/src/tree/updater_prune.cc:98: tree pruning end, 54 extra nodes, 0 pruned nodes, max_depth=5\n",
      "[15:16:27] INFO: /Users/travis/build/dmlc/xgboost/src/tree/updater_prune.cc:98: tree pruning end, 50 extra nodes, 0 pruned nodes, max_depth=5\n",
      "[15:16:28] INFO: /Users/travis/build/dmlc/xgboost/src/tree/updater_prune.cc:98: tree pruning end, 46 extra nodes, 0 pruned nodes, max_depth=5\n",
      "[15:16:28] INFO: /Users/travis/build/dmlc/xgboost/src/tree/updater_prune.cc:98: tree pruning end, 48 extra nodes, 0 pruned nodes, max_depth=5\n",
      "[15:16:29] INFO: /Users/travis/build/dmlc/xgboost/src/tree/updater_prune.cc:98: tree pruning end, 36 extra nodes, 0 pruned nodes, max_depth=5\n",
      "[15:16:29] INFO: /Users/travis/build/dmlc/xgboost/src/tree/updater_prune.cc:98: tree pruning end, 48 extra nodes, 0 pruned nodes, max_depth=5\n",
      "[15:16:30] INFO: /Users/travis/build/dmlc/xgboost/src/tree/updater_prune.cc:98: tree pruning end, 30 extra nodes, 0 pruned nodes, max_depth=5\n",
      "[15:16:30] INFO: /Users/travis/build/dmlc/xgboost/src/tree/updater_prune.cc:98: tree pruning end, 58 extra nodes, 0 pruned nodes, max_depth=5\n",
      "[15:16:31] INFO: /Users/travis/build/dmlc/xgboost/src/tree/updater_prune.cc:98: tree pruning end, 40 extra nodes, 0 pruned nodes, max_depth=5\n",
      "[15:16:31] INFO: /Users/travis/build/dmlc/xgboost/src/tree/updater_prune.cc:98: tree pruning end, 50 extra nodes, 0 pruned nodes, max_depth=5\n",
      "[15:16:32] INFO: /Users/travis/build/dmlc/xgboost/src/tree/updater_prune.cc:98: tree pruning end, 50 extra nodes, 0 pruned nodes, max_depth=5\n",
      "[15:16:33] INFO: /Users/travis/build/dmlc/xgboost/src/tree/updater_prune.cc:98: tree pruning end, 52 extra nodes, 0 pruned nodes, max_depth=5\n",
      "[15:16:33] INFO: /Users/travis/build/dmlc/xgboost/src/tree/updater_prune.cc:98: tree pruning end, 40 extra nodes, 0 pruned nodes, max_depth=5\n",
      "[15:16:34] INFO: /Users/travis/build/dmlc/xgboost/src/tree/updater_prune.cc:98: tree pruning end, 46 extra nodes, 0 pruned nodes, max_depth=5\n",
      "[15:16:34] INFO: /Users/travis/build/dmlc/xgboost/src/tree/updater_prune.cc:98: tree pruning end, 28 extra nodes, 0 pruned nodes, max_depth=5\n",
      "[15:16:35] INFO: /Users/travis/build/dmlc/xgboost/src/tree/updater_prune.cc:98: tree pruning end, 26 extra nodes, 0 pruned nodes, max_depth=5\n",
      "[15:16:35] INFO: /Users/travis/build/dmlc/xgboost/src/tree/updater_prune.cc:98: tree pruning end, 22 extra nodes, 0 pruned nodes, max_depth=5\n",
      "[15:16:36] INFO: /Users/travis/build/dmlc/xgboost/src/tree/updater_prune.cc:98: tree pruning end, 34 extra nodes, 0 pruned nodes, max_depth=5\n",
      "[15:16:36] INFO: /Users/travis/build/dmlc/xgboost/src/tree/updater_prune.cc:98: tree pruning end, 42 extra nodes, 0 pruned nodes, max_depth=5\n",
      "[15:16:37] INFO: /Users/travis/build/dmlc/xgboost/src/tree/updater_prune.cc:98: tree pruning end, 42 extra nodes, 0 pruned nodes, max_depth=5\n",
      "[15:16:38] INFO: /Users/travis/build/dmlc/xgboost/src/tree/updater_prune.cc:98: tree pruning end, 56 extra nodes, 0 pruned nodes, max_depth=5\n",
      "[15:16:38] INFO: /Users/travis/build/dmlc/xgboost/src/tree/updater_prune.cc:98: tree pruning end, 48 extra nodes, 0 pruned nodes, max_depth=5\n",
      "[15:16:39] INFO: /Users/travis/build/dmlc/xgboost/src/tree/updater_prune.cc:98: tree pruning end, 28 extra nodes, 0 pruned nodes, max_depth=5\n",
      "[15:16:39] INFO: /Users/travis/build/dmlc/xgboost/src/tree/updater_prune.cc:98: tree pruning end, 52 extra nodes, 0 pruned nodes, max_depth=5\n",
      "[15:16:40] INFO: /Users/travis/build/dmlc/xgboost/src/tree/updater_prune.cc:98: tree pruning end, 54 extra nodes, 0 pruned nodes, max_depth=5\n",
      "[15:16:40] INFO: /Users/travis/build/dmlc/xgboost/src/tree/updater_prune.cc:98: tree pruning end, 44 extra nodes, 0 pruned nodes, max_depth=5\n",
      "[15:16:41] INFO: /Users/travis/build/dmlc/xgboost/src/tree/updater_prune.cc:98: tree pruning end, 38 extra nodes, 0 pruned nodes, max_depth=5\n"
     ]
    },
    {
     "name": "stdout",
     "output_type": "stream",
     "text": [
      "[15:16:41] INFO: /Users/travis/build/dmlc/xgboost/src/tree/updater_prune.cc:98: tree pruning end, 42 extra nodes, 0 pruned nodes, max_depth=5\n",
      "[15:16:42] INFO: /Users/travis/build/dmlc/xgboost/src/tree/updater_prune.cc:98: tree pruning end, 56 extra nodes, 0 pruned nodes, max_depth=5\n",
      "[15:16:43] INFO: /Users/travis/build/dmlc/xgboost/src/tree/updater_prune.cc:98: tree pruning end, 48 extra nodes, 0 pruned nodes, max_depth=5\n",
      "[15:16:43] INFO: /Users/travis/build/dmlc/xgboost/src/tree/updater_prune.cc:98: tree pruning end, 26 extra nodes, 0 pruned nodes, max_depth=5\n",
      "[15:16:44] INFO: /Users/travis/build/dmlc/xgboost/src/tree/updater_prune.cc:98: tree pruning end, 50 extra nodes, 0 pruned nodes, max_depth=5\n",
      "[15:16:44] INFO: /Users/travis/build/dmlc/xgboost/src/tree/updater_prune.cc:98: tree pruning end, 60 extra nodes, 0 pruned nodes, max_depth=5\n",
      "[15:16:45] INFO: /Users/travis/build/dmlc/xgboost/src/tree/updater_prune.cc:98: tree pruning end, 50 extra nodes, 0 pruned nodes, max_depth=5\n",
      "[15:16:45] INFO: /Users/travis/build/dmlc/xgboost/src/tree/updater_prune.cc:98: tree pruning end, 38 extra nodes, 0 pruned nodes, max_depth=5\n",
      "[15:16:46] INFO: /Users/travis/build/dmlc/xgboost/src/tree/updater_prune.cc:98: tree pruning end, 30 extra nodes, 0 pruned nodes, max_depth=5\n",
      "[15:16:47] INFO: /Users/travis/build/dmlc/xgboost/src/tree/updater_prune.cc:98: tree pruning end, 50 extra nodes, 0 pruned nodes, max_depth=5\n",
      "[15:16:48] INFO: /Users/travis/build/dmlc/xgboost/src/tree/updater_prune.cc:98: tree pruning end, 32 extra nodes, 0 pruned nodes, max_depth=5\n",
      "[15:16:49] INFO: /Users/travis/build/dmlc/xgboost/src/tree/updater_prune.cc:98: tree pruning end, 30 extra nodes, 0 pruned nodes, max_depth=5\n",
      "[15:16:50] INFO: /Users/travis/build/dmlc/xgboost/src/tree/updater_prune.cc:98: tree pruning end, 30 extra nodes, 0 pruned nodes, max_depth=5\n",
      "[15:16:51] INFO: /Users/travis/build/dmlc/xgboost/src/tree/updater_prune.cc:98: tree pruning end, 30 extra nodes, 0 pruned nodes, max_depth=5\n",
      "[15:16:52] INFO: /Users/travis/build/dmlc/xgboost/src/tree/updater_prune.cc:98: tree pruning end, 34 extra nodes, 0 pruned nodes, max_depth=5\n",
      "[15:16:53] INFO: /Users/travis/build/dmlc/xgboost/src/tree/updater_prune.cc:98: tree pruning end, 48 extra nodes, 0 pruned nodes, max_depth=5\n",
      "[15:16:53] INFO: /Users/travis/build/dmlc/xgboost/src/tree/updater_prune.cc:98: tree pruning end, 36 extra nodes, 0 pruned nodes, max_depth=5\n",
      "[15:16:54] INFO: /Users/travis/build/dmlc/xgboost/src/tree/updater_prune.cc:98: tree pruning end, 54 extra nodes, 0 pruned nodes, max_depth=5\n",
      "[15:16:55] INFO: /Users/travis/build/dmlc/xgboost/src/tree/updater_prune.cc:98: tree pruning end, 44 extra nodes, 0 pruned nodes, max_depth=5\n",
      "[15:16:55] INFO: /Users/travis/build/dmlc/xgboost/src/tree/updater_prune.cc:98: tree pruning end, 28 extra nodes, 0 pruned nodes, max_depth=5\n",
      "[15:16:56] INFO: /Users/travis/build/dmlc/xgboost/src/tree/updater_prune.cc:98: tree pruning end, 42 extra nodes, 0 pruned nodes, max_depth=5\n",
      "[15:16:56] INFO: /Users/travis/build/dmlc/xgboost/src/tree/updater_prune.cc:98: tree pruning end, 48 extra nodes, 0 pruned nodes, max_depth=5\n",
      "[15:16:57] INFO: /Users/travis/build/dmlc/xgboost/src/tree/updater_prune.cc:98: tree pruning end, 58 extra nodes, 0 pruned nodes, max_depth=5\n",
      "[15:16:58] INFO: /Users/travis/build/dmlc/xgboost/src/tree/updater_prune.cc:98: tree pruning end, 56 extra nodes, 0 pruned nodes, max_depth=5\n",
      "[15:16:59] INFO: /Users/travis/build/dmlc/xgboost/src/tree/updater_prune.cc:98: tree pruning end, 48 extra nodes, 0 pruned nodes, max_depth=5\n",
      "[15:17:00] INFO: /Users/travis/build/dmlc/xgboost/src/tree/updater_prune.cc:98: tree pruning end, 54 extra nodes, 0 pruned nodes, max_depth=5\n",
      "[15:17:01] INFO: /Users/travis/build/dmlc/xgboost/src/tree/updater_prune.cc:98: tree pruning end, 18 extra nodes, 0 pruned nodes, max_depth=5\n",
      "[15:17:01] INFO: /Users/travis/build/dmlc/xgboost/src/tree/updater_prune.cc:98: tree pruning end, 50 extra nodes, 0 pruned nodes, max_depth=5\n",
      "[15:17:02] INFO: /Users/travis/build/dmlc/xgboost/src/tree/updater_prune.cc:98: tree pruning end, 56 extra nodes, 0 pruned nodes, max_depth=5\n",
      "[15:17:03] INFO: /Users/travis/build/dmlc/xgboost/src/tree/updater_prune.cc:98: tree pruning end, 40 extra nodes, 0 pruned nodes, max_depth=5\n",
      "[15:17:04] INFO: /Users/travis/build/dmlc/xgboost/src/tree/updater_prune.cc:98: tree pruning end, 56 extra nodes, 0 pruned nodes, max_depth=5\n",
      "[15:17:04] INFO: /Users/travis/build/dmlc/xgboost/src/tree/updater_prune.cc:98: tree pruning end, 32 extra nodes, 0 pruned nodes, max_depth=5\n",
      "[15:17:05] INFO: /Users/travis/build/dmlc/xgboost/src/tree/updater_prune.cc:98: tree pruning end, 28 extra nodes, 0 pruned nodes, max_depth=5\n",
      "[15:17:05] INFO: /Users/travis/build/dmlc/xgboost/src/tree/updater_prune.cc:98: tree pruning end, 24 extra nodes, 0 pruned nodes, max_depth=5\n",
      "[15:17:06] INFO: /Users/travis/build/dmlc/xgboost/src/tree/updater_prune.cc:98: tree pruning end, 36 extra nodes, 0 pruned nodes, max_depth=5\n",
      "[15:17:07] INFO: /Users/travis/build/dmlc/xgboost/src/tree/updater_prune.cc:98: tree pruning end, 28 extra nodes, 0 pruned nodes, max_depth=5\n",
      "[15:17:08] INFO: /Users/travis/build/dmlc/xgboost/src/tree/updater_prune.cc:98: tree pruning end, 44 extra nodes, 0 pruned nodes, max_depth=5\n",
      "[15:17:10] INFO: /Users/travis/build/dmlc/xgboost/src/tree/updater_prune.cc:98: tree pruning end, 40 extra nodes, 0 pruned nodes, max_depth=5\n",
      "[15:17:10] INFO: /Users/travis/build/dmlc/xgboost/src/tree/updater_prune.cc:98: tree pruning end, 62 extra nodes, 0 pruned nodes, max_depth=5\n",
      "[15:17:11] INFO: /Users/travis/build/dmlc/xgboost/src/tree/updater_prune.cc:98: tree pruning end, 48 extra nodes, 0 pruned nodes, max_depth=5\n",
      "[15:17:11] INFO: /Users/travis/build/dmlc/xgboost/src/tree/updater_prune.cc:98: tree pruning end, 26 extra nodes, 0 pruned nodes, max_depth=5\n",
      "[15:17:12] INFO: /Users/travis/build/dmlc/xgboost/src/tree/updater_prune.cc:98: tree pruning end, 46 extra nodes, 0 pruned nodes, max_depth=5\n",
      "[15:17:12] INFO: /Users/travis/build/dmlc/xgboost/src/tree/updater_prune.cc:98: tree pruning end, 48 extra nodes, 0 pruned nodes, max_depth=5\n",
      "[15:17:13] INFO: /Users/travis/build/dmlc/xgboost/src/tree/updater_prune.cc:98: tree pruning end, 46 extra nodes, 0 pruned nodes, max_depth=5\n",
      "[15:17:13] INFO: /Users/travis/build/dmlc/xgboost/src/tree/updater_prune.cc:98: tree pruning end, 38 extra nodes, 0 pruned nodes, max_depth=5\n",
      "[15:17:14] INFO: /Users/travis/build/dmlc/xgboost/src/tree/updater_prune.cc:98: tree pruning end, 52 extra nodes, 0 pruned nodes, max_depth=5\n",
      "[15:17:14] INFO: /Users/travis/build/dmlc/xgboost/src/tree/updater_prune.cc:98: tree pruning end, 40 extra nodes, 0 pruned nodes, max_depth=5\n",
      "[15:17:15] INFO: /Users/travis/build/dmlc/xgboost/src/tree/updater_prune.cc:98: tree pruning end, 44 extra nodes, 0 pruned nodes, max_depth=5\n",
      "[15:17:15] INFO: /Users/travis/build/dmlc/xgboost/src/tree/updater_prune.cc:98: tree pruning end, 32 extra nodes, 0 pruned nodes, max_depth=5\n",
      "[15:17:16] INFO: /Users/travis/build/dmlc/xgboost/src/tree/updater_prune.cc:98: tree pruning end, 34 extra nodes, 0 pruned nodes, max_depth=5\n",
      "[15:17:16] INFO: /Users/travis/build/dmlc/xgboost/src/tree/updater_prune.cc:98: tree pruning end, 44 extra nodes, 0 pruned nodes, max_depth=5\n",
      "[15:17:17] INFO: /Users/travis/build/dmlc/xgboost/src/tree/updater_prune.cc:98: tree pruning end, 32 extra nodes, 0 pruned nodes, max_depth=5\n",
      "[15:17:17] INFO: /Users/travis/build/dmlc/xgboost/src/tree/updater_prune.cc:98: tree pruning end, 32 extra nodes, 0 pruned nodes, max_depth=5\n",
      "[15:17:18] INFO: /Users/travis/build/dmlc/xgboost/src/tree/updater_prune.cc:98: tree pruning end, 50 extra nodes, 0 pruned nodes, max_depth=5\n",
      "[15:17:18] INFO: /Users/travis/build/dmlc/xgboost/src/tree/updater_prune.cc:98: tree pruning end, 52 extra nodes, 0 pruned nodes, max_depth=5\n",
      "[15:17:19] INFO: /Users/travis/build/dmlc/xgboost/src/tree/updater_prune.cc:98: tree pruning end, 44 extra nodes, 0 pruned nodes, max_depth=5\n",
      "[15:17:19] INFO: /Users/travis/build/dmlc/xgboost/src/tree/updater_prune.cc:98: tree pruning end, 58 extra nodes, 0 pruned nodes, max_depth=5\n",
      "[15:17:20] INFO: /Users/travis/build/dmlc/xgboost/src/tree/updater_prune.cc:98: tree pruning end, 50 extra nodes, 0 pruned nodes, max_depth=5\n"
     ]
    },
    {
     "name": "stdout",
     "output_type": "stream",
     "text": [
      "[15:17:20] INFO: /Users/travis/build/dmlc/xgboost/src/tree/updater_prune.cc:98: tree pruning end, 40 extra nodes, 0 pruned nodes, max_depth=5\n",
      "[15:17:21] INFO: /Users/travis/build/dmlc/xgboost/src/tree/updater_prune.cc:98: tree pruning end, 32 extra nodes, 0 pruned nodes, max_depth=5\n",
      "[15:17:21] INFO: /Users/travis/build/dmlc/xgboost/src/tree/updater_prune.cc:98: tree pruning end, 50 extra nodes, 0 pruned nodes, max_depth=5\n",
      "[15:17:22] INFO: /Users/travis/build/dmlc/xgboost/src/tree/updater_prune.cc:98: tree pruning end, 30 extra nodes, 0 pruned nodes, max_depth=5\n",
      "[15:17:22] INFO: /Users/travis/build/dmlc/xgboost/src/tree/updater_prune.cc:98: tree pruning end, 60 extra nodes, 0 pruned nodes, max_depth=5\n",
      "[15:17:23] INFO: /Users/travis/build/dmlc/xgboost/src/tree/updater_prune.cc:98: tree pruning end, 32 extra nodes, 0 pruned nodes, max_depth=5\n",
      "[15:17:24] INFO: /Users/travis/build/dmlc/xgboost/src/tree/updater_prune.cc:98: tree pruning end, 60 extra nodes, 0 pruned nodes, max_depth=5\n",
      "[15:17:24] INFO: /Users/travis/build/dmlc/xgboost/src/tree/updater_prune.cc:98: tree pruning end, 42 extra nodes, 0 pruned nodes, max_depth=5\n",
      "[15:17:25] INFO: /Users/travis/build/dmlc/xgboost/src/tree/updater_prune.cc:98: tree pruning end, 52 extra nodes, 0 pruned nodes, max_depth=5\n",
      "[15:17:25] INFO: /Users/travis/build/dmlc/xgboost/src/tree/updater_prune.cc:98: tree pruning end, 28 extra nodes, 0 pruned nodes, max_depth=5\n",
      "[15:17:26] INFO: /Users/travis/build/dmlc/xgboost/src/tree/updater_prune.cc:98: tree pruning end, 44 extra nodes, 0 pruned nodes, max_depth=5\n",
      "[15:17:26] INFO: /Users/travis/build/dmlc/xgboost/src/tree/updater_prune.cc:98: tree pruning end, 38 extra nodes, 0 pruned nodes, max_depth=5\n",
      "[15:17:27] INFO: /Users/travis/build/dmlc/xgboost/src/tree/updater_prune.cc:98: tree pruning end, 52 extra nodes, 0 pruned nodes, max_depth=5\n",
      "[15:17:27] INFO: /Users/travis/build/dmlc/xgboost/src/tree/updater_prune.cc:98: tree pruning end, 42 extra nodes, 0 pruned nodes, max_depth=5\n",
      "[15:17:28] INFO: /Users/travis/build/dmlc/xgboost/src/tree/updater_prune.cc:98: tree pruning end, 28 extra nodes, 0 pruned nodes, max_depth=5\n",
      "[15:17:28] INFO: /Users/travis/build/dmlc/xgboost/src/tree/updater_prune.cc:98: tree pruning end, 36 extra nodes, 0 pruned nodes, max_depth=5\n",
      "[15:17:29] INFO: /Users/travis/build/dmlc/xgboost/src/tree/updater_prune.cc:98: tree pruning end, 26 extra nodes, 0 pruned nodes, max_depth=5\n",
      "[15:17:30] INFO: /Users/travis/build/dmlc/xgboost/src/tree/updater_prune.cc:98: tree pruning end, 44 extra nodes, 0 pruned nodes, max_depth=5\n",
      "[15:17:30] INFO: /Users/travis/build/dmlc/xgboost/src/tree/updater_prune.cc:98: tree pruning end, 36 extra nodes, 0 pruned nodes, max_depth=5\n",
      "[15:17:31] INFO: /Users/travis/build/dmlc/xgboost/src/tree/updater_prune.cc:98: tree pruning end, 30 extra nodes, 0 pruned nodes, max_depth=5\n",
      "[15:17:31] INFO: /Users/travis/build/dmlc/xgboost/src/tree/updater_prune.cc:98: tree pruning end, 24 extra nodes, 0 pruned nodes, max_depth=5\n",
      "[15:17:32] INFO: /Users/travis/build/dmlc/xgboost/src/tree/updater_prune.cc:98: tree pruning end, 38 extra nodes, 0 pruned nodes, max_depth=5\n",
      "[15:17:32] INFO: /Users/travis/build/dmlc/xgboost/src/tree/updater_prune.cc:98: tree pruning end, 18 extra nodes, 0 pruned nodes, max_depth=5\n",
      "[15:17:33] INFO: /Users/travis/build/dmlc/xgboost/src/tree/updater_prune.cc:98: tree pruning end, 32 extra nodes, 0 pruned nodes, max_depth=5\n",
      "[15:17:33] INFO: /Users/travis/build/dmlc/xgboost/src/tree/updater_prune.cc:98: tree pruning end, 50 extra nodes, 0 pruned nodes, max_depth=5\n",
      "[15:17:34] INFO: /Users/travis/build/dmlc/xgboost/src/tree/updater_prune.cc:98: tree pruning end, 54 extra nodes, 0 pruned nodes, max_depth=5\n",
      "[15:17:34] INFO: /Users/travis/build/dmlc/xgboost/src/tree/updater_prune.cc:98: tree pruning end, 46 extra nodes, 0 pruned nodes, max_depth=5\n",
      "[15:17:35] INFO: /Users/travis/build/dmlc/xgboost/src/tree/updater_prune.cc:98: tree pruning end, 52 extra nodes, 0 pruned nodes, max_depth=5\n",
      "[15:17:35] INFO: /Users/travis/build/dmlc/xgboost/src/tree/updater_prune.cc:98: tree pruning end, 22 extra nodes, 0 pruned nodes, max_depth=5\n",
      "[15:17:36] INFO: /Users/travis/build/dmlc/xgboost/src/tree/updater_prune.cc:98: tree pruning end, 54 extra nodes, 0 pruned nodes, max_depth=5\n",
      "[15:17:37] INFO: /Users/travis/build/dmlc/xgboost/src/tree/updater_prune.cc:98: tree pruning end, 32 extra nodes, 0 pruned nodes, max_depth=5\n",
      "[15:17:37] INFO: /Users/travis/build/dmlc/xgboost/src/tree/updater_prune.cc:98: tree pruning end, 38 extra nodes, 0 pruned nodes, max_depth=5\n",
      "[15:17:38] INFO: /Users/travis/build/dmlc/xgboost/src/tree/updater_prune.cc:98: tree pruning end, 26 extra nodes, 0 pruned nodes, max_depth=5\n",
      "[15:17:38] INFO: /Users/travis/build/dmlc/xgboost/src/tree/updater_prune.cc:98: tree pruning end, 52 extra nodes, 0 pruned nodes, max_depth=5\n",
      "[15:17:39] INFO: /Users/travis/build/dmlc/xgboost/src/tree/updater_prune.cc:98: tree pruning end, 28 extra nodes, 0 pruned nodes, max_depth=5\n",
      "[15:17:39] INFO: /Users/travis/build/dmlc/xgboost/src/tree/updater_prune.cc:98: tree pruning end, 28 extra nodes, 0 pruned nodes, max_depth=5\n",
      "287.1158621311188\n"
     ]
    }
   ],
   "source": [
    "model_3, preds, y_test = train_XGB(X, y, True)"
   ]
  },
  {
   "cell_type": "code",
   "execution_count": 28,
   "metadata": {},
   "outputs": [
    {
     "data": {
      "text/plain": [
       "0.813"
      ]
     },
     "execution_count": 28,
     "metadata": {},
     "output_type": "execute_result"
    }
   ],
   "source": [
    "accuracy_score(preds, y_test)"
   ]
  },
  {
   "cell_type": "code",
   "execution_count": 30,
   "metadata": {},
   "outputs": [
    {
     "name": "stdout",
     "output_type": "stream",
     "text": [
      "              precision    recall  f1-score   support\n",
      "\n",
      "           0       0.69      0.66      0.67       293\n",
      "           1       0.86      0.88      0.87       707\n",
      "\n",
      "    accuracy                           0.81      1000\n",
      "   macro avg       0.78      0.77      0.77      1000\n",
      "weighted avg       0.81      0.81      0.81      1000\n",
      "\n"
     ]
    }
   ],
   "source": [
    "print(classification_report(preds, y_test))"
   ]
  },
  {
   "cell_type": "markdown",
   "metadata": {},
   "source": [
    "With a relativly high accuracy of 81% and much lower computational complexity, this model warrants training on the larger dataset."
   ]
  },
  {
   "cell_type": "code",
   "execution_count": 2,
   "metadata": {
    "collapsed": true
   },
   "outputs": [
    {
     "ename": "NameError",
     "evalue": "name 'model_3' is not defined",
     "output_type": "error",
     "traceback": [
      "\u001b[0;31m---------------------------------------------------------------------------\u001b[0m",
      "\u001b[0;31mNameError\u001b[0m                                 Traceback (most recent call last)",
      "\u001b[0;32m<ipython-input-2-35f55dfa49db>\u001b[0m in \u001b[0;36m<module>\u001b[0;34m\u001b[0m\n\u001b[0;32m----> 1\u001b[0;31m \u001b[0mmodel_3\u001b[0m\u001b[0;34m.\u001b[0m\u001b[0msave_model\u001b[0m\u001b[0;34m(\u001b[0m\u001b[0;34m'XGB_IPSC_Hyp.model'\u001b[0m\u001b[0;34m)\u001b[0m\u001b[0;34m\u001b[0m\u001b[0;34m\u001b[0m\u001b[0m\n\u001b[0m",
      "\u001b[0;31mNameError\u001b[0m: name 'model_3' is not defined"
     ]
    }
   ],
   "source": [
    "model_3.save_model('XGB_IPSC_Hyp.model')"
   ]
  },
  {
   "cell_type": "code",
   "execution_count": 4,
   "metadata": {},
   "outputs": [],
   "source": [
    "full = pd.read_csv('IPSC_CNN_Class/CNN_Labels.csv')"
   ]
  },
  {
   "cell_type": "code",
   "execution_count": 6,
   "metadata": {},
   "outputs": [
    {
     "data": {
      "text/plain": [
       "(125035, 4004)"
      ]
     },
     "execution_count": 6,
     "metadata": {},
     "output_type": "execute_result"
    }
   ],
   "source": [
    "full.shape"
   ]
  },
  {
   "cell_type": "code",
   "execution_count": 7,
   "metadata": {},
   "outputs": [],
   "source": [
    "y = full['Labels']"
   ]
  },
  {
   "cell_type": "code",
   "execution_count": 8,
   "metadata": {},
   "outputs": [
    {
     "data": {
      "text/plain": [
       "<matplotlib.axes._subplots.AxesSubplot at 0x7f8851521150>"
      ]
     },
     "execution_count": 8,
     "metadata": {},
     "output_type": "execute_result"
    },
    {
     "data": {
      "image/png": "[encoded data removed]",
      "text/plain": [
       "<Figure size 432x288 with 1 Axes>"
      ]
     },
     "metadata": {
      "needs_background": "light"
     },
     "output_type": "display_data"
    }
   ],
   "source": [
    "sns.countplot(y)"
   ]
  },
  {
   "cell_type": "code",
   "execution_count": null,
   "metadata": {},
   "outputs": [],
   "source": []
  }
 ],
 "metadata": {
  "kernelspec": {
   "display_name": "Python 3",
   "language": "python",
   "name": "python3"
  },
  "language_info": {
   "codemirror_mode": {
    "name": "ipython",
    "version": 3
   },
   "file_extension": ".py",
   "mimetype": "text/x-python",
   "name": "python",
   "nbconvert_exporter": "python",
   "pygments_lexer": "ipython3",
   "version": "3.7.7"
  }
 },
 "nbformat": 4,
 "nbformat_minor": 4
}
